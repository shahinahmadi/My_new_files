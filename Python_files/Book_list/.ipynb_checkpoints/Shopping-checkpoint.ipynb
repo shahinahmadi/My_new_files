{
 "cells": [
  {
   "cell_type": "code",
   "execution_count": 1,
   "metadata": {},
   "outputs": [],
   "source": [
    "# Take a list of book\n",
    "# Add those books to the created list\n",
    "# Check the name of the book every time that you add to the list\n",
    "#If the book is already in the list, do not add it to the list\n",
    "#Write this program in two method: 1. Without using a function. 2. Using a class which includes the methods inside"
   ]
  },
  {
   "cell_type": "markdown",
   "metadata": {},
   "source": [
    "## First method(Without using the function)"
   ]
  },
  {
   "cell_type": "code",
   "execution_count": 3,
   "metadata": {},
   "outputs": [
    {
     "name": "stdout",
     "output_type": "stream",
     "text": [
      "Enter the number of the books: 3\n",
      "Please enter the name of the book:   rad\n",
      "Please enter the name of the book:   tet\n",
      "Please enter the name of the book:   tet\n",
      "['rad', 'tet', 'tet']\n",
      "['rad', 'tet']\n"
     ]
    }
   ],
   "source": [
    "Book_list1=[]\n",
    "\n",
    "Book_numbers=int(input(\"Enter the number of the books: \"))\n",
    "j=0\n",
    "\n",
    "while j<Book_numbers:\n",
    "       Book_name1=input(\"Please enter the name of the book:   \")\n",
    "       Book_list1.append(Book_name1)  \n",
    "       j+=1\n",
    "        \n",
    "Book_list2=[] \n",
    "\n",
    "for i in Book_list1:\n",
    "    if i not in Book_list2:\n",
    "        Book_list2.append(i)\n",
    "\n",
    "\n",
    "print(Book_list1)\n",
    "print(Book_list2)"
   ]
  },
  {
   "cell_type": "markdown",
   "metadata": {},
   "source": [
    "## First method; without using the function"
   ]
  },
  {
   "cell_type": "code",
   "execution_count": 2,
   "metadata": {},
   "outputs": [
    {
     "name": "stdout",
     "output_type": "stream",
     "text": [
      "Enter the number of the books: 3\n",
      "Please enter the name of the book:   book1\n",
      "Please enter the name of the book:   book1\n",
      "This book is already in the list; we can not add it to the list\n",
      "Please enter the name of the book:   book2\n",
      "['book1', 'book2']\n"
     ]
    }
   ],
   "source": [
    "Book_list1=[]\n",
    "\n",
    "Book_numbers=int(input(\"Enter the number of the books: \"))\n",
    "j=0\n",
    "\n",
    "while j<Book_numbers:\n",
    "       Book_name1=input(\"Please enter the name of the book:   \")\n",
    "       if Book_name1 not in Book_list1:\n",
    "            Book_list1.append(Book_name1)\n",
    "       else:\n",
    "            print(\"This book is already in the list; we can not add it to the list\")\n",
    "       j+=1\n",
    "print(Book_list1)"
   ]
  },
  {
   "cell_type": "markdown",
   "metadata": {},
   "source": [
    "## Second method; using the function"
   ]
  },
  {
   "cell_type": "code",
   "execution_count": 1,
   "metadata": {},
   "outputs": [
    {
     "name": "stdout",
     "output_type": "stream",
     "text": [
      "[1, 2, 3, 4, 5]\n",
      "[1, 2, 33, 4, 3, 22]\n",
      "[1, 2, 33, 4, 3, 22]\n"
     ]
    }
   ],
   "source": [
    "# Write a class, which has two methods. The first method takes the list of\n",
    "#the books and add them to the list created\n",
    "#The second class checks if the book already exists or not and if it does\n",
    "#not exist, it is added to the created list\n",
    "\n",
    "class List:\n",
    "    \n",
    "    def add_to_list(self, list):\n",
    "        return list\n",
    "    \n",
    "    \n",
    "    def remove_repeatation(self,list):\n",
    "        Final_list=[]\n",
    "        for i in list:\n",
    "            if i not in Final_list:\n",
    "                Final_list.append(i)\n",
    "        print(Final_list)\n",
    "        return Final_list\n",
    "        \n",
    "        \n",
    "list1= List()\n",
    "print(list1.add_to_list([1,2,3,4,5]))\n",
    "\n",
    "list2=List()\n",
    "print(list2.remove_repeatation([1,1,1,1,1,2,33,4,3,22,2]))\n",
    "    \n",
    "\n",
    "        \n",
    "        "
   ]
  },
  {
   "cell_type": "code",
   "execution_count": null,
   "metadata": {},
   "outputs": [],
   "source": []
  }
 ],
 "metadata": {
  "kernelspec": {
   "display_name": "Python 3",
   "language": "python",
   "name": "python3"
  },
  "language_info": {
   "codemirror_mode": {
    "name": "ipython",
    "version": 3
   },
   "file_extension": ".py",
   "mimetype": "text/x-python",
   "name": "python",
   "nbconvert_exporter": "python",
   "pygments_lexer": "ipython3",
   "version": "3.8.3"
  }
 },
 "nbformat": 4,
 "nbformat_minor": 4
}
