{
 "cells": [
  {
   "cell_type": "code",
   "execution_count": 4,
   "metadata": {},
   "outputs": [
    {
     "data": {
      "text/html": [
       "<div>\n",
       "<style scoped>\n",
       "    .dataframe tbody tr th:only-of-type {\n",
       "        vertical-align: middle;\n",
       "    }\n",
       "\n",
       "    .dataframe tbody tr th {\n",
       "        vertical-align: top;\n",
       "    }\n",
       "\n",
       "    .dataframe thead th {\n",
       "        text-align: right;\n",
       "    }\n",
       "</style>\n",
       "<table border=\"1\" class=\"dataframe\">\n",
       "  <thead>\n",
       "    <tr style=\"text-align: right;\">\n",
       "      <th></th>\n",
       "      <th>Job_title</th>\n",
       "      <th>Deadline</th>\n",
       "      <th>Status</th>\n",
       "    </tr>\n",
       "  </thead>\n",
       "  <tbody>\n",
       "    <tr>\n",
       "      <th>0</th>\n",
       "      <td>Ryerson</td>\n",
       "      <td>December</td>\n",
       "      <td>Applied</td>\n",
       "    </tr>\n",
       "    <tr>\n",
       "      <th>1</th>\n",
       "      <td>McMaster</td>\n",
       "      <td>December</td>\n",
       "      <td>Applied</td>\n",
       "    </tr>\n",
       "    <tr>\n",
       "      <th>2</th>\n",
       "      <td>Carleton</td>\n",
       "      <td>December</td>\n",
       "      <td>Appied</td>\n",
       "    </tr>\n",
       "    <tr>\n",
       "      <th>3</th>\n",
       "      <td>Alberta</td>\n",
       "      <td>December</td>\n",
       "      <td>Applied</td>\n",
       "    </tr>\n",
       "    <tr>\n",
       "      <th>4</th>\n",
       "      <td>Calgary</td>\n",
       "      <td>Janurary</td>\n",
       "      <td>Preparing</td>\n",
       "    </tr>\n",
       "  </tbody>\n",
       "</table>\n",
       "</div>"
      ],
      "text/plain": [
       "  Job_title  Deadline     Status\n",
       "0   Ryerson  December    Applied\n",
       "1  McMaster  December    Applied\n",
       "2  Carleton  December     Appied\n",
       "3   Alberta  December    Applied\n",
       "4   Calgary  Janurary  Preparing"
      ]
     },
     "execution_count": 4,
     "metadata": {},
     "output_type": "execute_result"
    }
   ],
   "source": [
    "import pandas as pd\n",
    "import csv\n",
    "from itertools import zip_longest\n",
    "\n",
    "University=[\"Ryerson\",\"McMaster\",\"Carleton\",\"Alberta\",\"Calgary\"]\n",
    "Deadline=[\"December\",'December','December','December','Janurary']\n",
    "Status=['Applied','Applied','Appied','Applied','Preparing']\n",
    "\n",
    "\n",
    "\n",
    "Table=[University, Deadline, Status]\n",
    "\n",
    "\n",
    "export_data = zip_longest(*Table, fillvalue = '')\n",
    "with open('Uni_app.csv', 'w', encoding=\"ISO-8859-1\", newline='') as myfile:\n",
    "      wr = csv.writer(myfile)\n",
    "      wr.writerow((\"Job_title\", \"Deadline\", \"Status\"))\n",
    "      wr.writerows(export_data)\n",
    "myfile.close()\n",
    "\n",
    "df1 = pd.read_csv(\"Uni_app.csv\")\n",
    "\n",
    "df1"
   ]
  },
  {
   "cell_type": "code",
   "execution_count": null,
   "metadata": {},
   "outputs": [],
   "source": []
  }
 ],
 "metadata": {
  "kernelspec": {
   "display_name": "Python 3",
   "language": "python",
   "name": "python3"
  },
  "language_info": {
   "codemirror_mode": {
    "name": "ipython",
    "version": 3
   },
   "file_extension": ".py",
   "mimetype": "text/x-python",
   "name": "python",
   "nbconvert_exporter": "python",
   "pygments_lexer": "ipython3",
   "version": "3.8.3"
  }
 },
 "nbformat": 4,
 "nbformat_minor": 4
}
