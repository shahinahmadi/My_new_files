{
 "cells": [
  {
   "cell_type": "markdown",
   "metadata": {},
   "source": [
    "### Define a class which has a function, which takes the list of a family member and prints the first name, last name, and the age"
   ]
  },
  {
   "cell_type": "code",
   "execution_count": 4,
   "metadata": {},
   "outputs": [
    {
     "name": "stdout",
     "output_type": "stream",
     "text": [
      "Enter the number of your family members: 5\n",
      "Enter the name: Ahmad\n",
      "Enter your last name: Ahmadi\n",
      "Enter your_age: 65\n",
      "['Ahmad']\n",
      "['Ahmadi']\n",
      "[65]\n",
      "Enter the name: Nabat\n",
      "Enter your last name: Kosari\n",
      "Enter your_age: 55\n",
      "['Ahmad', 'Nabat']\n",
      "['Ahmadi', 'Kosari']\n",
      "[65, 55]\n",
      "Enter the name: Afshin\n",
      "Enter your last name: Ahmadi\n",
      "Enter your_age: 37\n",
      "['Ahmad', 'Nabat', 'Afshin']\n",
      "['Ahmadi', 'Kosari', 'Ahmadi']\n",
      "[65, 55, 37]\n",
      "Enter the name: Noushin\n",
      "Enter your last name: Ahmadi\n",
      "Enter your_age: 35\n",
      "['Ahmad', 'Nabat', 'Afshin', 'Noushin']\n",
      "['Ahmadi', 'Kosari', 'Ahmadi', 'Ahmadi']\n",
      "[65, 55, 37, 35]\n",
      "Enter the name: Shahin\n",
      "Enter your last name: Ahmadi\n",
      "Enter your_age: 32\n",
      "['Ahmad', 'Nabat', 'Afshin', 'Noushin', 'Shahin']\n",
      "['Ahmadi', 'Kosari', 'Ahmadi', 'Ahmadi', 'Ahmadi']\n",
      "[65, 55, 37, 35, 32]\n"
     ]
    }
   ],
   "source": [
    "import csv\n",
    "from itertools import zip_longest\n",
    "\n",
    "class Family:\n",
    "           \n",
    "        \n",
    "                       \n",
    "                \n",
    "    \n",
    "        def my_list(self):\n",
    "                Final_list=[]\n",
    "                first_names=[]\n",
    "                last_names=[]\n",
    "                ages=[]\n",
    "                d=[]\n",
    "                family_number=int(input(\"Enter the number of your family members: \"))\n",
    "                i=0\n",
    "                while i<family_number:\n",
    "                         your_name=input(\"Enter the name: \")\n",
    "                         your_last_name=input(\"Enter your last name: \")\n",
    "                         your_age=int(input(\"Enter your_age: \"))\n",
    "                         list={\"name\":your_name,\"last name\":your_last_name, \"age\":your_age}\n",
    "                         Final_list.append(list)\n",
    "                         first_names.append(list[\"name\"])\n",
    "                         last_names.append(list[\"last name\"])\n",
    "                         ages.append(list[\"age\"])\n",
    "                         print(first_names)\n",
    "                         print(last_names)\n",
    "                         print(ages)\n",
    "                         d=[first_names, last_names, ages] \n",
    "                         i=i+1\n",
    "            \n",
    "                export_data = zip_longest(*d, fillvalue = '')\n",
    "                with open('Family_information.csv', 'w', encoding=\"ISO-8859-1\", newline='') as myfile:\n",
    "                             wr = csv.writer(myfile)\n",
    "                             wr.writerow((\"first_names\", \"last_names\",\"ages\"))\n",
    "                             wr.writerows(export_data)\n",
    "                             myfile.close()\n",
    "                \n",
    "\n",
    "    \n",
    "   \n",
    "    \n",
    "    \n",
    "    \n",
    "# Creat the first object of the class\n",
    "family_information=Family()\n",
    "family_information.my_list()\n",
    "\n",
    "    "
   ]
  },
  {
   "cell_type": "code",
   "execution_count": null,
   "metadata": {},
   "outputs": [],
   "source": []
  }
 ],
 "metadata": {
  "kernelspec": {
   "display_name": "Python 3",
   "language": "python",
   "name": "python3"
  },
  "language_info": {
   "codemirror_mode": {
    "name": "ipython",
    "version": 3
   },
   "file_extension": ".py",
   "mimetype": "text/x-python",
   "name": "python",
   "nbconvert_exporter": "python",
   "pygments_lexer": "ipython3",
   "version": "3.8.3"
  }
 },
 "nbformat": 4,
 "nbformat_minor": 4
}
