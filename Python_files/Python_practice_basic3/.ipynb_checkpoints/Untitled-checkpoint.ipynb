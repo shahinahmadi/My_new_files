{
 "cells": [
  {
   "cell_type": "markdown",
   "metadata": {},
   "source": [
    "# Numbers and printing python "
   ]
  },
  {
   "cell_type": "code",
   "execution_count": 1,
   "metadata": {},
   "outputs": [
    {
     "name": "stdout",
     "output_type": "stream",
     "text": [
      "5.0\n"
     ]
    }
   ],
   "source": [
    "a=1\n",
    "b=2\n",
    "c=3\n",
    "d=4\n"
   ]
  },
  {
   "cell_type": "code",
   "execution_count": 2,
   "metadata": {},
   "outputs": [
    {
     "name": "stdout",
     "output_type": "stream",
     "text": [
      "4.0\n"
     ]
    }
   ],
   "source": [
    "float_division=12/3\n",
    "print(float_division)"
   ]
  },
  {
   "cell_type": "code",
   "execution_count": 6,
   "metadata": {},
   "outputs": [
    {
     "name": "stdout",
     "output_type": "stream",
     "text": [
      "4\n"
     ]
    }
   ],
   "source": [
    "integer_division=12//3\n",
    "print(integer_division)\n",
    "print(int(integer_division))"
   ]
  },
  {
   "cell_type": "code",
   "execution_count": 8,
   "metadata": {
    "scrolled": false
   },
   "outputs": [
    {
     "name": "stdout",
     "output_type": "stream",
     "text": [
      "2\n",
      "2\n"
     ]
    }
   ],
   "source": [
    "division_with_remainder=12//5\n",
    "print(division_with_remainder)\n",
    "remainder=12%5\n",
    "print(remainder)\n"
   ]
  },
  {
   "cell_type": "markdown",
   "metadata": {},
   "source": [
    "# Getting things from the fusers"
   ]
  },
  {
   "cell_type": "code",
   "execution_count": 9,
   "metadata": {},
   "outputs": [
    {
     "name": "stdout",
     "output_type": "stream",
     "text": [
      "Enter your name: Shahin Ahmadi\n",
      "Hello, Shahin Ahmadi\n"
     ]
    }
   ],
   "source": [
    "my_name ='Shahin'\n",
    "your_name=input(\"Enter your name: \")\n",
    "\n",
    "#print (\"Hello\"+ yourname)\n",
    "print(f'Hello, {your_name}')"
   ]
  },
  {
   "cell_type": "code",
   "execution_count": 16,
   "metadata": {},
   "outputs": [
    {
     "name": "stdout",
     "output_type": "stream",
     "text": [
      "Enter your age: 32\n",
      "You have lived for 384\n"
     ]
    }
   ],
   "source": [
    "your_age= int(input(\"Enter your age: \"))\n",
    "convert_to_month=your_age*12\n",
    "print(f'You have lived for {convert_to_month}')"
   ]
  },
  {
   "cell_type": "code",
   "execution_count": 17,
   "metadata": {},
   "outputs": [
    {
     "name": "stdout",
     "output_type": "stream",
     "text": [
      "You have lived for995328000\n"
     ]
    }
   ],
   "source": [
    "in_seconds=convert_to_month*30*24*60*60\n",
    "print(f'You have lived for{in_seconds}')"
   ]
  },
  {
   "cell_type": "markdown",
   "metadata": {},
   "source": [
    "# Bolean"
   ]
  },
  {
   "cell_type": "code",
   "execution_count": 18,
   "metadata": {},
   "outputs": [
    {
     "name": "stdout",
     "output_type": "stream",
     "text": [
      "True\n"
     ]
    }
   ],
   "source": [
    "truthy=True\n",
    "falsy=False\n",
    "age=20\n",
    "is_over_age=age>=18\n",
    "print(is_over_age)"
   ]
  },
  {
   "cell_type": "code",
   "execution_count": 23,
   "metadata": {},
   "outputs": [
    {
     "name": "stdout",
     "output_type": "stream",
     "text": [
      "False\n"
     ]
    }
   ],
   "source": [
    "is_under_age=(age<18)\n",
    "print(is_under_age)"
   ]
  },
  {
   "cell_type": "code",
   "execution_count": 22,
   "metadata": {},
   "outputs": [
    {
     "name": "stdout",
     "output_type": "stream",
     "text": [
      "True\n"
     ]
    }
   ],
   "source": [
    "is_twenty=age==20\n",
    "print(is_twenty)"
   ]
  },
  {
   "cell_type": "code",
   "execution_count": 29,
   "metadata": {},
   "outputs": [
    {
     "name": "stdout",
     "output_type": "stream",
     "text": [
      "Enter your number: 3\n",
      "False\n",
      "True\n"
     ]
    }
   ],
   "source": [
    "my_number=5\n",
    "user_number=int(input(\"Enter your number: \"))\n",
    "print(my_number==user_number)\n",
    "print(my_number!=user_number)\n"
   ]
  },
  {
   "cell_type": "code",
   "execution_count": 30,
   "metadata": {},
   "outputs": [
    {
     "name": "stdout",
     "output_type": "stream",
     "text": [
      "False\n"
     ]
    }
   ],
   "source": [
    "yes=True and True\n",
    "no = True and False\n",
    "print(no)"
   ]
  },
  {
   "cell_type": "code",
   "execution_count": 31,
   "metadata": {},
   "outputs": [
    {
     "name": "stdout",
     "output_type": "stream",
     "text": [
      "OKKKK True\n"
     ]
    }
   ],
   "source": [
    "which_one_is_it=True or False\n",
    "second_one=False or True\n",
    "first_one=True or True\n",
    "neither=False or False\n",
    "\n",
    "absolutely= not False # True\n",
    "another_no=not True # False\n",
    "\n",
    "is_programmer=True\n",
    "is_learning=False\n",
    "\n",
    "awesome=is_programmer and is_learning\n",
    "less_awesome=is_programmer and not is_learning\n",
    "print(f'OKKKK {less_awesome}')"
   ]
  },
  {
   "cell_type": "code",
   "execution_count": 34,
   "metadata": {},
   "outputs": [
    {
     "name": "stdout",
     "output_type": "stream",
     "text": [
      "This is a great guy True\n"
     ]
    }
   ],
   "source": [
    "is_designer=False\n",
    "great_guys=(is_programmer or not is_designer) and not is_learning\n",
    "print(f'This is a great guy {great_guys}')"
   ]
  },
  {
   "cell_type": "markdown",
   "metadata": {},
   "source": [
    "# Data structurs (lists, tuples, and sets)"
   ]
  },
  {
   "cell_type": "code",
   "execution_count": 36,
   "metadata": {},
   "outputs": [
    {
     "name": "stdout",
     "output_type": "stream",
     "text": [
      "['hello', 'hi', 'nice to meet you']\n",
      "('hello', 'hi', 'nice to meet you')\n",
      "{'nice to meet you', 'hi', 'hello'}\n"
     ]
    }
   ],
   "source": [
    "my_variables='hello'\n",
    "my_list_variable=['hello', 'hi', 'nice to meet you']\n",
    "my_tuple_variable=('hello','hi','nice to meet you')\n",
    "my_set_variable={'hello', 'hi', 'nice to meet you'}\n",
    "\n",
    "print(my_list_variable)\n",
    "print(my_tuple_variable)\n",
    "print(my_set_variable)\n"
   ]
  },
  {
   "cell_type": "code",
   "execution_count": 38,
   "metadata": {},
   "outputs": [
    {
     "name": "stdout",
     "output_type": "stream",
     "text": [
      "hello\n"
     ]
    }
   ],
   "source": [
    "my_short_tuple_variable=('hello')\n",
    "print(my_short_tuple_variable)"
   ]
  },
  {
   "cell_type": "code",
   "execution_count": 39,
   "metadata": {},
   "outputs": [
    {
     "name": "stdout",
     "output_type": "stream",
     "text": [
      "hello\n"
     ]
    }
   ],
   "source": [
    "print(my_list_variable[0])"
   ]
  },
  {
   "cell_type": "code",
   "execution_count": 40,
   "metadata": {},
   "outputs": [
    {
     "name": "stdout",
     "output_type": "stream",
     "text": [
      "hello\n"
     ]
    }
   ],
   "source": [
    "print(my_tuple_variable[0])"
   ]
  },
  {
   "cell_type": "markdown",
   "metadata": {},
   "source": [
    "### Modify the list "
   ]
  },
  {
   "cell_type": "code",
   "execution_count": 42,
   "metadata": {},
   "outputs": [
    {
     "name": "stdout",
     "output_type": "stream",
     "text": [
      "['hello', 'hi', 'nice to meet you', 'Anothr sting']\n"
     ]
    }
   ],
   "source": [
    "my_list_variable.append('Anothr sting')\n",
    "print(my_list_variable)"
   ]
  },
  {
   "cell_type": "code",
   "execution_count": 44,
   "metadata": {},
   "outputs": [
    {
     "name": "stdout",
     "output_type": "stream",
     "text": [
      "('hello', 'hi', 'nice to meet you', 'another string')\n"
     ]
    }
   ],
   "source": [
    "my_tuple_variable=my_tuple_variable+('another string', )\n",
    "print(my_tuple_variable)"
   ]
  },
  {
   "cell_type": "code",
   "execution_count": 45,
   "metadata": {},
   "outputs": [
    {
     "name": "stdout",
     "output_type": "stream",
     "text": [
      "{'nice to meet you', 'hi', 'hello'}\n"
     ]
    }
   ],
   "source": [
    "my_set_variable.add('hello')\n",
    "print(my_set_variable)\n",
    "\n"
   ]
  },
  {
   "cell_type": "markdown",
   "metadata": {},
   "source": [
    "## Advanced set operators"
   ]
  },
  {
   "cell_type": "code",
   "execution_count": 1,
   "metadata": {},
   "outputs": [
    {
     "name": "stdout",
     "output_type": "stream",
     "text": [
      "{1, 3, 5}\n"
     ]
    }
   ],
   "source": [
    "set_one={1,2,3,4,5}\n",
    "set_two={1,3,5,7,9,11}\n",
    "print(set_one.intersection(set_two))"
   ]
  },
  {
   "cell_type": "code",
   "execution_count": 2,
   "metadata": {},
   "outputs": [
    {
     "name": "stdout",
     "output_type": "stream",
     "text": [
      "{1, 2, 3, 4, 5, 7, 9, 11}\n"
     ]
    }
   ],
   "source": [
    "print(set_one.union(set_two))"
   ]
  },
  {
   "cell_type": "code",
   "execution_count": 3,
   "metadata": {},
   "outputs": [
    {
     "name": "stdout",
     "output_type": "stream",
     "text": [
      "{2, 4}\n"
     ]
    }
   ],
   "source": [
    "print(set_one.difference(set_two))"
   ]
  },
  {
   "cell_type": "markdown",
   "metadata": {},
   "source": [
    "## Dictionary"
   ]
  },
  {
   "cell_type": "code",
   "execution_count": 7,
   "metadata": {},
   "outputs": [
    {
     "name": "stdout",
     "output_type": "stream",
     "text": [
      "6\n"
     ]
    }
   ],
   "source": [
    "my_friend=[{\n",
    "    'Jose':6,\n",
    "    'Rolf':12,\n",
    "    'Anne':6\n",
    "},{\n",
    "  'Shahin':20,\n",
    "    'Ramin':25,\n",
    "    'Mohsen':46\n",
    "}]\n",
    "group_one=my_friend[0]\n",
    "print(group_one['Jose'])\n",
    "\n"
   ]
  },
  {
   "cell_type": "code",
   "execution_count": 8,
   "metadata": {},
   "outputs": [
    {
     "name": "stdout",
     "output_type": "stream",
     "text": [
      "21\n"
     ]
    }
   ],
   "source": [
    "a=[1,2,3,4,5,6]\n",
    "print(sum(a))"
   ]
  },
  {
   "cell_type": "markdown",
   "metadata": {},
   "source": [
    "### The leength of the list"
   ]
  },
  {
   "cell_type": "code",
   "execution_count": 3,
   "metadata": {},
   "outputs": [
    {
     "name": "stdout",
     "output_type": "stream",
     "text": [
      "320\n"
     ]
    }
   ],
   "source": [
    "grades=[95,50,75,100]\n",
    "total=sum(grades)\n",
    "print(total)"
   ]
  },
  {
   "cell_type": "code",
   "execution_count": 4,
   "metadata": {},
   "outputs": [
    {
     "data": {
      "text/plain": [
       "4"
      ]
     },
     "execution_count": 4,
     "metadata": {},
     "output_type": "execute_result"
    }
   ],
   "source": [
    "len(grades)"
   ]
  },
  {
   "cell_type": "markdown",
   "metadata": {},
   "source": [
    "### If statement"
   ]
  },
  {
   "cell_type": "code",
   "execution_count": 7,
   "metadata": {},
   "outputs": [
    {
     "name": "stdout",
     "output_type": "stream",
     "text": [
      "You are awesome\n"
     ]
    }
   ],
   "source": [
    "programmer=True\n",
    "if programmer is True:\n",
    "    print('You are awesome')"
   ]
  },
  {
   "cell_type": "code",
   "execution_count": 10,
   "metadata": {},
   "outputs": [
    {
     "name": "stdout",
     "output_type": "stream",
     "text": [
      "Learn some programming\n"
     ]
    }
   ],
   "source": [
    "programmer=False\n",
    "if programmer is  True:\n",
    "    print('You are awssome')\n",
    "else:\n",
    "    print('Learn some programming')"
   ]
  },
  {
   "cell_type": "code",
   "execution_count": 22,
   "metadata": {},
   "outputs": [
    {
     "name": "stdout",
     "output_type": "stream",
     "text": [
      "I do not have any idea\n"
     ]
    }
   ],
   "source": [
    "is_programmer=False\n",
    "is_awesome=False\n",
    "\n",
    "\n",
    "if is_programmer:\n",
    "    print('You are the best!')\n",
    "elif is_awesome:\n",
    "    print(\"You are awesome\")\n",
    "else:\n",
    "    print(\"I do not have any idea\")"
   ]
  },
  {
   "cell_type": "code",
   "execution_count": 20,
   "metadata": {},
   "outputs": [
    {
     "name": "stdout",
     "output_type": "stream",
     "text": [
      "Be awesome!\n"
     ]
    }
   ],
   "source": [
    "if  (is_programmer or is_awesome):\n",
    "    print('Be awesome!')"
   ]
  },
  {
   "cell_type": "markdown",
   "metadata": {},
   "source": [
    "## Using while loop"
   ]
  },
  {
   "cell_type": "code",
   "execution_count": null,
   "metadata": {},
   "outputs": [],
   "source": [
    "is_programmer=False\n",
    "while is_programmer:\n",
    "    print('Hello World')"
   ]
  },
  {
   "cell_type": "code",
   "execution_count": 1,
   "metadata": {},
   "outputs": [
    {
     "name": "stdout",
     "output_type": "stream",
     "text": [
      "Repeated 0 times\n",
      "Repeated 1 times\n",
      "Repeated 2 times\n",
      "Repeated 3 times\n",
      "Repeated 4 times\n",
      "Repeated 5 times\n",
      "Repeated 6 times\n",
      "Repeated 7 times\n",
      "Repeated 8 times\n",
      "Repeated 9 times\n"
     ]
    }
   ],
   "source": [
    "i=0\n",
    "while i<10:\n",
    "    print(f'Repeated {i} times')\n",
    "    i=i+1\n",
    "    \n",
    "    "
   ]
  },
  {
   "cell_type": "markdown",
   "metadata": {},
   "source": [
    "### For loop "
   ]
  },
  {
   "cell_type": "code",
   "execution_count": 3,
   "metadata": {},
   "outputs": [
    {
     "name": "stdout",
     "output_type": "stream",
     "text": [
      "2 is a prime number\n",
      "3 is a prime number\n",
      "4 is a prime number\n",
      "7 is a prime number\n",
      "11 is a prime number\n"
     ]
    }
   ],
   "source": [
    "primes=[2,3,4,7,11]\n",
    "for i in primes:\n",
    "    print(f'{i} is a prime number')"
   ]
  },
  {
   "cell_type": "code",
   "execution_count": 4,
   "metadata": {},
   "outputs": [
    {
     "name": "stdout",
     "output_type": "stream",
     "text": [
      "I have a 3 year old kid\n",
      "I have a 7 year old kid\n",
      "I have a 12 year old kid\n"
     ]
    }
   ],
   "source": [
    "kid_ages=(3,7,12)\n",
    "for age in kid_ages:\n",
    "    print(f'I have a {age} year old kid')"
   ]
  },
  {
   "cell_type": "code",
   "execution_count": 5,
   "metadata": {},
   "outputs": [
    {
     "name": "stdout",
     "output_type": "stream",
     "text": [
      "0\n",
      "1\n",
      "2\n",
      "3\n",
      "4\n",
      "5\n",
      "6\n",
      "7\n",
      "8\n",
      "9\n",
      "10\n",
      "11\n",
      "12\n",
      "13\n",
      "14\n",
      "15\n",
      "16\n",
      "17\n",
      "18\n",
      "19\n"
     ]
    }
   ],
   "source": [
    "for i in range(20):\n",
    "    print(i)"
   ]
  },
  {
   "cell_type": "code",
   "execution_count": 8,
   "metadata": {},
   "outputs": [
    {
     "name": "stdout",
     "output_type": "stream",
     "text": [
      "I last saw Jose 6 days ago.\n",
      "I last saw Rolf 12 days ago.\n",
      "I last saw Anne 6 days ago.\n"
     ]
    }
   ],
   "source": [
    "my_friends={\n",
    "    'Jose':6,\n",
    "    'Rolf':12,\n",
    "    'Anne':6\n",
    "}\n",
    "\n",
    "for name in my_friends:\n",
    "    print(f'I last saw {name} {my_friends[name]} days ago.')"
   ]
  },
  {
   "cell_type": "code",
   "execution_count": 9,
   "metadata": {},
   "outputs": [
    {
     "name": "stdout",
     "output_type": "stream",
     "text": [
      "I last saw Jose 6 days ago.\n",
      "I last saw Rolf 12 days ago.\n",
      "I last saw Anne 6 days ago.\n"
     ]
    }
   ],
   "source": [
    "my_friends={\n",
    "    'Jose':6,\n",
    "    'Rolf':12,\n",
    "    'Anne':6\n",
    "}\n",
    "\n",
    "for name, days in my_friends.items():\n",
    "    print(f'I last saw {name} {days} days ago.')"
   ]
  },
  {
   "cell_type": "code",
   "execution_count": 10,
   "metadata": {},
   "outputs": [
    {
     "name": "stdout",
     "output_type": "stream",
     "text": [
      "dict_items([('Jose', 6), ('Rolf', 12), ('Anne', 6)])\n"
     ]
    }
   ],
   "source": [
    "print(my_friends.items())"
   ]
  },
  {
   "cell_type": "markdown",
   "metadata": {},
   "source": [
    "### Break keyword"
   ]
  },
  {
   "cell_type": "code",
   "execution_count": 4,
   "metadata": {},
   "outputs": [
    {
     "name": "stdout",
     "output_type": "stream",
     "text": [
      "ok\n",
      "ok\n",
      "ok\n",
      "faulty\n",
      "Stop production\n"
     ]
    }
   ],
   "source": [
    "cars=['ok','ok','ok','faulty','ok','ok']\n",
    "for car in cars:\n",
    "    print(car)\n",
    "    if car=='faulty':\n",
    "        break\n",
    "print('Stop production')"
   ]
  },
  {
   "cell_type": "code",
   "execution_count": 12,
   "metadata": {},
   "outputs": [
    {
     "name": "stdout",
     "output_type": "stream",
     "text": [
      "We found an even number2\n",
      "I found a 3\n",
      "We found an even number4\n",
      "I found a 5\n",
      "We found an even number6\n",
      "I found a 7\n",
      "We found an even number8\n",
      "I found a 9\n"
     ]
    }
   ],
   "source": [
    "for number in range(2,10):\n",
    "    if number%2==0:\n",
    "        print(f'We found an even number{number}')\n",
    "       # continue\n",
    "    else:\n",
    "        print(f'I found a {number}')\n",
    "        \n",
    "    "
   ]
  },
  {
   "cell_type": "code",
   "execution_count": 24,
   "metadata": {},
   "outputs": [
    {
     "name": "stdout",
     "output_type": "stream",
     "text": [
      "2 is a prime number\n",
      "3 is a prime number\n",
      "4 equals 2*2.0\n",
      "5 is a prime number\n",
      "6 equals 2*3.0\n",
      "7 is a prime number\n",
      "8 equals 2*4.0\n",
      "9 equals 3*3.0\n"
     ]
    }
   ],
   "source": [
    "for n in range(2,10):\n",
    "    for x in range(2,n):\n",
    "        if n%x==0:\n",
    "            print(f'{n} equals {x}*{n/x}')\n",
    "            break\n",
    "    else:\n",
    "            print(f'{n} is a prime number')"
   ]
  },
  {
   "cell_type": "code",
   "execution_count": 27,
   "metadata": {},
   "outputs": [
    {
     "name": "stdout",
     "output_type": "stream",
     "text": [
      "2 is a prime number\n",
      "3 is a prime number\n",
      "4 equals 2*2.0\n",
      "5 is a prime number\n",
      "6 equals 2*3.0\n",
      "7 is a prime number\n",
      "8 equals 2*4.0\n",
      "9 equals 3*3.0\n"
     ]
    }
   ],
   "source": [
    "for n in range(2,10):\n",
    "    for k in range(2,n):\n",
    "        if n%k==0:\n",
    "            print(f'{n} equals {k}*{n/k}')\n",
    "            break\n",
    "    else:\n",
    "            print(f'{n} is a prime number')"
   ]
  },
  {
   "cell_type": "code",
   "execution_count": 1,
   "metadata": {},
   "outputs": [],
   "source": [
    "### List slicing"
   ]
  },
  {
   "cell_type": "code",
   "execution_count": 3,
   "metadata": {},
   "outputs": [
    {
     "name": "stdout",
     "output_type": "stream",
     "text": [
      "['Anna', 'Charlie']\n"
     ]
    }
   ],
   "source": [
    "friends=['rolf', 'Jose', 'Anna', 'Charlie', 'Mary']\n",
    "print(friends[2:4])"
   ]
  },
  {
   "cell_type": "code",
   "execution_count": 4,
   "metadata": {},
   "outputs": [
    {
     "name": "stdout",
     "output_type": "stream",
     "text": [
      "['Anna', 'Charlie']\n"
     ]
    }
   ],
   "source": [
    "print(friends[-3:-1])"
   ]
  },
  {
   "cell_type": "code",
   "execution_count": 6,
   "metadata": {},
   "outputs": [
    {
     "name": "stdout",
     "output_type": "stream",
     "text": [
      "['rolf', 'Jose', 'Anna']\n"
     ]
    }
   ],
   "source": [
    "print(friends[:-2])"
   ]
  },
  {
   "cell_type": "markdown",
   "metadata": {},
   "source": [
    "### List comprehension"
   ]
  },
  {
   "cell_type": "code",
   "execution_count": 16,
   "metadata": {},
   "outputs": [],
   "source": [
    "numbers=list(range(10))"
   ]
  },
  {
   "cell_type": "code",
   "execution_count": 17,
   "metadata": {},
   "outputs": [
    {
     "name": "stdout",
     "output_type": "stream",
     "text": [
      "[0, 2, 4, 6, 8, 10, 12, 14, 16, 18]\n"
     ]
    }
   ],
   "source": [
    "doubled_numbers=[]\n",
    "for i in numbers:\n",
    "    doubled_numbers.append(i*2)\n",
    "print(doubled_numbers)"
   ]
  },
  {
   "cell_type": "code",
   "execution_count": 24,
   "metadata": {},
   "outputs": [
    {
     "name": "stdout",
     "output_type": "stream",
     "text": [
      "[0, 2, 4, 6, 8, 10, 12, 14, 16, 18]\n"
     ]
    }
   ],
   "source": [
    "doubled_numbers=[n*2 for n in numbers]\n",
    "\n",
    "print(doubled_numbers)"
   ]
  },
  {
   "cell_type": "code",
   "execution_count": 34,
   "metadata": {},
   "outputs": [
    {
     "name": "stdout",
     "output_type": "stream",
     "text": [
      "john\n",
      "rolf\n",
      "anne\n",
      "['john', 'rolf', 'anne']\n"
     ]
    }
   ],
   "source": [
    "names_list=['John','Rolf','Anne']\n",
    "lower_case=[]\n",
    "for i in names_list:\n",
    "    print(i.lower())\n",
    "    lower_case.append(i.lower())\n",
    "print(lower_case)"
   ]
  },
  {
   "cell_type": "markdown",
   "metadata": {},
   "source": [
    "### With condition"
   ]
  },
  {
   "cell_type": "code",
   "execution_count": 36,
   "metadata": {},
   "outputs": [
    {
     "name": "stdout",
     "output_type": "stream",
     "text": [
      "[0, 2, 4, 6, 8]\n"
     ]
    }
   ],
   "source": [
    "even=[]\n",
    "for i in numbers:\n",
    "    if i%2==0:\n",
    "        even.append(i)\n",
    "print(even )"
   ]
  },
  {
   "cell_type": "code",
   "execution_count": 38,
   "metadata": {},
   "outputs": [],
   "source": [
    "friends=['Ali', 'Hasan', 'Hossein', 'Sajjad']\n",
    "guests=['Fatemeh', 'Zeinab', 'Zahra', 'Leila', 'Hasan', 'Hossein']"
   ]
  },
  {
   "cell_type": "code",
   "execution_count": 43,
   "metadata": {},
   "outputs": [],
   "source": [
    "present_friend=[n.capitalize() for n in friends if n in guests]\n"
   ]
  },
  {
   "cell_type": "code",
   "execution_count": 44,
   "metadata": {},
   "outputs": [
    {
     "name": "stdout",
     "output_type": "stream",
     "text": [
      "['Hasan', 'Hossein']\n"
     ]
    }
   ],
   "source": [
    "print(present_friend)"
   ]
  },
  {
   "cell_type": "markdown",
   "metadata": {},
   "source": [
    "### Functions "
   ]
  },
  {
   "cell_type": "code",
   "execution_count": 2,
   "metadata": {},
   "outputs": [],
   "source": [
    "#name = input('Enter your name: ')\n",
    "#print(f'Hello , {name}!')\n",
    "def greet():\n",
    "    name=input('Enter your name: ')\n",
    "    print(f'Hello, {name}!')\n",
    "    \n",
    "#greet()"
   ]
  },
  {
   "cell_type": "code",
   "execution_count": 14,
   "metadata": {},
   "outputs": [
    {
     "name": "stdout",
     "output_type": "stream",
     "text": [
      "2 is a prime number\n",
      "3 is a prime number\n",
      "4 equals 2*2.0\n",
      "5 is a prime number\n",
      "6 equals 2*3.0\n",
      "7 is a prime number\n",
      "8 equals 2*4.0\n",
      "9 equals 3*3.0\n",
      "10 equals 2*5.0\n",
      "11 is a prime number\n",
      "12 equals 2*6.0\n",
      "13 is a prime number\n",
      "14 equals 2*7.0\n",
      "15 equals 3*5.0\n",
      "16 equals 2*8.0\n",
      "17 is a prime number\n",
      "18 equals 2*9.0\n",
      "19 is a prime number\n",
      "20 equals 2*10.0\n",
      "21 equals 3*7.0\n",
      "22 equals 2*11.0\n",
      "23 is a prime number\n",
      "24 equals 2*12.0\n",
      "25 equals 5*5.0\n",
      "26 equals 2*13.0\n",
      "27 equals 3*9.0\n",
      "28 equals 2*14.0\n",
      "29 is a prime number\n",
      "30 equals 2*15.0\n",
      "31 is a prime number\n",
      "32 equals 2*16.0\n",
      "33 equals 3*11.0\n",
      "34 equals 2*17.0\n",
      "35 equals 5*7.0\n",
      "36 equals 2*18.0\n",
      "37 is a prime number\n",
      "38 equals 2*19.0\n",
      "39 equals 3*13.0\n",
      "40 equals 2*20.0\n",
      "41 is a prime number\n",
      "42 equals 2*21.0\n",
      "43 is a prime number\n",
      "44 equals 2*22.0\n",
      "45 equals 3*15.0\n",
      "46 equals 2*23.0\n",
      "47 is a prime number\n",
      "48 equals 2*24.0\n",
      "49 equals 7*7.0\n",
      "50 equals 2*25.0\n",
      "51 equals 3*17.0\n",
      "52 equals 2*26.0\n",
      "53 is a prime number\n",
      "54 equals 2*27.0\n",
      "55 equals 5*11.0\n",
      "56 equals 2*28.0\n",
      "57 equals 3*19.0\n",
      "58 equals 2*29.0\n",
      "59 is a prime number\n",
      "60 equals 2*30.0\n",
      "61 is a prime number\n",
      "62 equals 2*31.0\n",
      "63 equals 3*21.0\n",
      "64 equals 2*32.0\n",
      "65 equals 5*13.0\n",
      "66 equals 2*33.0\n",
      "67 is a prime number\n",
      "68 equals 2*34.0\n",
      "69 equals 3*23.0\n",
      "70 equals 2*35.0\n",
      "71 is a prime number\n",
      "72 equals 2*36.0\n",
      "73 is a prime number\n",
      "74 equals 2*37.0\n",
      "75 equals 3*25.0\n",
      "76 equals 2*38.0\n",
      "77 equals 7*11.0\n",
      "78 equals 2*39.0\n",
      "79 is a prime number\n",
      "80 equals 2*40.0\n",
      "81 equals 3*27.0\n",
      "82 equals 2*41.0\n",
      "83 is a prime number\n",
      "84 equals 2*42.0\n",
      "85 equals 5*17.0\n",
      "86 equals 2*43.0\n",
      "87 equals 3*29.0\n",
      "88 equals 2*44.0\n",
      "89 is a prime number\n",
      "90 equals 2*45.0\n",
      "91 equals 7*13.0\n",
      "92 equals 2*46.0\n",
      "93 equals 3*31.0\n",
      "94 equals 2*47.0\n",
      "95 equals 5*19.0\n",
      "96 equals 2*48.0\n",
      "97 is a prime number\n",
      "98 equals 2*49.0\n",
      "99 equals 3*33.0\n"
     ]
    }
   ],
   "source": [
    "def check_if_prime(n):\n",
    "    #for n in range(2,10):\n",
    "        for x in range(2,n):\n",
    "            if n%x==0:\n",
    "                print(f'{n} equals {x}*{n/x}')\n",
    "                break\n",
    "        else:\n",
    "                print(f'{n} is a prime number')\n",
    "\n",
    "            \n",
    "\n",
    "for n in range(2,100):            \n",
    "      check_if_prime(n)"
   ]
  },
  {
   "cell_type": "markdown",
   "metadata": {},
   "source": [
    "### Return value"
   ]
  },
  {
   "cell_type": "code",
   "execution_count": 15,
   "metadata": {},
   "outputs": [
    {
     "data": {
      "text/plain": [
       "10"
      ]
     },
     "execution_count": 15,
     "metadata": {},
     "output_type": "execute_result"
    }
   ],
   "source": [
    "def i_return():\n",
    "    return 5+5\n",
    "def i_print():\n",
    "    print(5+5)\n",
    "i_return()"
   ]
  },
  {
   "cell_type": "code",
   "execution_count": 18,
   "metadata": {},
   "outputs": [
    {
     "name": "stdout",
     "output_type": "stream",
     "text": [
      "Result is 10\n",
      "Another is None\n"
     ]
    }
   ],
   "source": [
    "result=i_return()\n",
    "#another=i_print()\n",
    "\n",
    "print(f'Result is {result}')\n",
    "print(f'Another is {another}')"
   ]
  },
  {
   "cell_type": "code",
   "execution_count": 25,
   "metadata": {},
   "outputs": [
    {
     "name": "stdout",
     "output_type": "stream",
     "text": [
      "10\n",
      "10\n"
     ]
    }
   ],
   "source": [
    "def fives():\n",
    "     addition=5+5\n",
    "     print(addition)\n",
    "     return(addition)\n",
    "    \n",
    "    \n",
    "print(fives())"
   ]
  },
  {
   "cell_type": "code",
   "execution_count": 26,
   "metadata": {},
   "outputs": [
    {
     "data": {
      "text/plain": [
       "466749383152"
      ]
     },
     "execution_count": 26,
     "metadata": {},
     "output_type": "execute_result"
    }
   ],
   "source": [
    "def add_two(x,y):\n",
    "    return x+y\n",
    "add_two(16626363,466732756789)"
   ]
  },
  {
   "cell_type": "code",
   "execution_count": 28,
   "metadata": {},
   "outputs": [
    {
     "data": {
      "text/plain": [
       "15"
      ]
     },
     "execution_count": 28,
     "metadata": {},
     "output_type": "execute_result"
    }
   ],
   "source": [
    "lambda x, y: x+y\n",
    "(lambda x, y: x+y)(10,5)\n"
   ]
  },
  {
   "cell_type": "code",
   "execution_count": 29,
   "metadata": {},
   "outputs": [],
   "source": [
    "add=lambda x, y : x+y"
   ]
  },
  {
   "cell_type": "code",
   "execution_count": 32,
   "metadata": {},
   "outputs": [
    {
     "name": "stdout",
     "output_type": "stream",
     "text": [
      "Shahin\n"
     ]
    }
   ],
   "source": [
    "def who(data, identify):\n",
    "     return identify(data)\n",
    "#def my_identifier_function(some_data):\n",
    "   # return some_data['name']\n",
    "user={'name':'Shahin', 'surname':'Ahmadi'}\n",
    "#print(who(user, my_identifier_function))\n",
    "print(who(user,lambda x:x['name']))"
   ]
  },
  {
   "cell_type": "markdown",
   "metadata": {},
   "source": [
    "### Error in Python"
   ]
  },
  {
   "cell_type": "code",
   "execution_count": 34,
   "metadata": {},
   "outputs": [
    {
     "name": "stdout",
     "output_type": "stream",
     "text": [
      "123\n"
     ]
    }
   ],
   "source": [
    "my_variable=123\n",
    "print(my_variable)"
   ]
  },
  {
   "cell_type": "markdown",
   "metadata": {},
   "source": [
    "###  Milestone project"
   ]
  },
  {
   "cell_type": "code",
   "execution_count": null,
   "metadata": {},
   "outputs": [
    {
     "name": "stdout",
     "output_type": "stream",
     "text": [
      "Enter 'a' to add movie, '1' to see your movies, 'f' to find a movie: a\n",
      "Enter the name of movie: ali\n",
      "Enter the director of the movie: hasan\n",
      "Enter the production year of the movie: 2000\n",
      "\n",
      "Enter 'a' to add movie, '1' to see your movies, 'f' to find a movie: x\n",
      "I do not understand this command\n",
      "\n",
      "Enter 'a' to add movie, '1' to see your movies, 'f' to find a movie: a\n",
      "Enter the name of movie: ali\n",
      "Enter the director of the movie: hasan \n",
      "Enter the production year of the movie: 2000\n",
      "\n",
      "Enter 'a' to add movie, '1' to see your movies, 'f' to find a movie: a\n",
      "Enter the name of movie: x\n",
      "Enter the director of the movie: y\n",
      "Enter the production year of the movie: 2001\n",
      "\n",
      "Enter 'a' to add movie, '1' to see your movies, 'f' to find a movie: l\n",
      "Name:ali\n",
      "Director:hasan\n",
      "Release year:2000\n",
      "Name:ali\n",
      "Director:hasan \n",
      "Release year:2000\n",
      "Name:x\n",
      "Director:y\n",
      "Release year:2001\n",
      "\n",
      "Enter 'a' to add movie, '1' to see your movies, 'f' to find a movie: f\n",
      "Waht property of the movie are you looking for? year\n",
      "What are you searching for? 2000\n",
      "Name:ali\n",
      "Director:hasan\n",
      "Release year:2000\n",
      "Name:ali\n",
      "Director:hasan \n",
      "Release year:2000\n"
     ]
    }
   ],
   "source": [
    "\n",
    "movies=[]\n",
    "\n",
    "def menu():\n",
    "    \n",
    "    user_input=input(\"Enter 'a' to add movie, '1' to see your movies, 'f' to find a movie: \")\n",
    "\n",
    "    \n",
    "    while user_input!='q':\n",
    "\n",
    "                if user_input=='a':\n",
    "                      add_movie()\n",
    "                elif user_input=='l':\n",
    "                      show_movie(movies)\n",
    "                elif user_input=='f':\n",
    "                      find_movie()\n",
    "\n",
    "                else:\n",
    "                    print(\"I do not understand this command\")\n",
    "\n",
    "                    \n",
    "                user_input=input(\"\\nEnter 'a' to add movie, '1' to see your movies, 'f' to find a movie: \")                   \n",
    "                    \n",
    "                    \n",
    "\n",
    "\n",
    "def add_movie():\n",
    "\n",
    "                name=input(\"Enter the name of movie: \")\n",
    "                director=input(\"Enter the director of the movie: \")\n",
    "                year=input(\"Enter the production year of the movie: \")\n",
    "                \n",
    "\n",
    "                movies.append({\n",
    "\n",
    "                        'name':name,\n",
    "                        'director':director,\n",
    "                        'year':year\n",
    "\n",
    "                    })\n",
    "def show_movie(movies_list):\n",
    "                for movie in movies_list:\n",
    "                    print(f\"Name:{movie['name']}\")\n",
    "                    print(f\"Director:{movie['director']}\")\n",
    "                    print(f\"Release year:{movie['year']}\")\n",
    "\n",
    "def find_movie():\n",
    "    find_by=input(\"Waht property of the movie are you looking for? \")\n",
    "    looking_for=input(\"What are you searching for? \")\n",
    "    \n",
    "    found_movies=find_by_attribute(movies,looking_for, lambda x:x[find_by])\n",
    "    \n",
    "    show_movie(found_movies)\n",
    "    \n",
    "def find_by_attribute(items, expected, finder):  \n",
    "        found=[]\n",
    "        \n",
    "        for i in items:\n",
    "            if finder(i)==expected:\n",
    "                    found.append(i)\n",
    "        return found\n",
    "\n",
    "\n",
    "menu()\n",
    "\n",
    "\n",
    "\n",
    "\n",
    "\n",
    "\n",
    "    \n",
    "    \n",
    "    \n",
    "    \n",
    "    \n",
    "    \n",
    "    \n",
    "    \n",
    "    \n",
    "    \n",
    "    \n",
    "    \n",
    "    \n",
    "    \n",
    "    \n",
    "    \n",
    "    "
   ]
  },
  {
   "cell_type": "markdown",
   "metadata": {},
   "source": [
    "### Error in pythons"
   ]
  },
  {
   "cell_type": "code",
   "execution_count": 16,
   "metadata": {},
   "outputs": [
    {
     "name": "stdout",
     "output_type": "stream",
     "text": [
      "Anne\n"
     ]
    }
   ],
   "source": [
    "####Index error\n",
    "friends=['Rolf','Anne']\n",
    "print(friends[2])"
   ]
  },
  {
   "cell_type": "code",
   "execution_count": 2,
   "metadata": {},
   "outputs": [],
   "source": [
    "####Key error(If we use the key incorrectly)\n",
    "### We consider the milestone project 1 to illustrate this errordef show_movie(movies_list):\n",
    "def show_movie(movies_list): \n",
    "         for movie in movies_list:\n",
    "                       print(f\"Name:{movie['name']}\")\n",
    "                       print(f\"Director:{movie['director']}\")\n",
    "                       print(f\"Release year:{movie['release']}\")# It should be year not release\n",
    "\n"
   ]
  },
  {
   "cell_type": "code",
   "execution_count": 3,
   "metadata": {},
   "outputs": [],
   "source": [
    "####Name error\n",
    "print(hello)# hello is not defined"
   ]
  },
  {
   "cell_type": "code",
   "execution_count": 17,
   "metadata": {},
   "outputs": [
    {
     "ename": "AttributeError",
     "evalue": "'list' object has no attribute 'intersection'",
     "output_type": "error",
     "traceback": [
      "\u001b[1;31m---------------------------------------------------------------------------\u001b[0m",
      "\u001b[1;31mAttributeError\u001b[0m                            Traceback (most recent call last)",
      "\u001b[1;32m<ipython-input-17-75db5d2250b7>\u001b[0m in \u001b[0;36m<module>\u001b[1;34m\u001b[0m\n\u001b[0;32m      2\u001b[0m \u001b[0mfriends\u001b[0m\u001b[1;33m=\u001b[0m\u001b[1;33m[\u001b[0m\u001b[1;34m'Rolf'\u001b[0m\u001b[1;33m,\u001b[0m\u001b[1;34m'Jose'\u001b[0m\u001b[1;33m,\u001b[0m\u001b[1;34m'Charlie'\u001b[0m\u001b[1;33m]\u001b[0m\u001b[1;33m\u001b[0m\u001b[1;33m\u001b[0m\u001b[0m\n\u001b[0;32m      3\u001b[0m \u001b[0mfriends_nearby\u001b[0m\u001b[1;33m=\u001b[0m\u001b[1;33m[\u001b[0m\u001b[1;34m'Rolf'\u001b[0m\u001b[1;33m,\u001b[0m\u001b[1;34m'Anna'\u001b[0m\u001b[1;33m]\u001b[0m\u001b[1;33m\u001b[0m\u001b[1;33m\u001b[0m\u001b[0m\n\u001b[1;32m----> 4\u001b[1;33m \u001b[0mfriends\u001b[0m\u001b[1;33m.\u001b[0m\u001b[0mintersection\u001b[0m\u001b[1;33m(\u001b[0m\u001b[0mfriends_nearby\u001b[0m\u001b[1;33m)\u001b[0m\u001b[1;33m\u001b[0m\u001b[1;33m\u001b[0m\u001b[0m\n\u001b[0m",
      "\u001b[1;31mAttributeError\u001b[0m: 'list' object has no attribute 'intersection'"
     ]
    }
   ],
   "source": [
    "####Attribute error\n",
    "friends=['Rolf','Jose','Charlie']\n",
    "friends_nearby=['Rolf','Anna']\n",
    "friends.intersection(friends_nearby)"
   ]
  },
  {
   "cell_type": "code",
   "execution_count": 18,
   "metadata": {},
   "outputs": [],
   "source": [
    "####NotImplementedError, It says that the method or attribute we use is not implemented yet\n",
    "class user:\n",
    "    def __init__(self,username,password):\n",
    "        self.username=username\n",
    "        self.password=password\n",
    "        \n",
    "    def login(self):\n",
    "        raise NotImplementedError('This feature has not implemented yet.')\n",
    "\n"
   ]
  },
  {
   "cell_type": "code",
   "execution_count": 6,
   "metadata": {},
   "outputs": [],
   "source": [
    "####RunTimeError\n",
    "........."
   ]
  },
  {
   "cell_type": "code",
   "execution_count": 7,
   "metadata": {},
   "outputs": [],
   "source": [
    "    ####SyntaxError\n",
    "class User # : should be here\n",
    "        def __init__(self,username, password):\n",
    "            self.username=username\n",
    "            self.password=password"
   ]
  },
  {
   "cell_type": "code",
   "execution_count": 8,
   "metadata": {},
   "outputs": [],
   "source": [
    "####IndentationError\n",
    "def add_two(x,y):\n",
    "    pass\n",
    "\n",
    "\n",
    "return x+y"
   ]
  },
  {
   "cell_type": "code",
   "execution_count": 19,
   "metadata": {},
   "outputs": [
    {
     "ename": "SyntaxError",
     "evalue": "invalid syntax (<ipython-input-19-a1887e5fb771>, line 2)",
     "output_type": "error",
     "traceback": [
      "\u001b[1;36m  File \u001b[1;32m\"<ipython-input-19-a1887e5fb771>\"\u001b[1;36m, line \u001b[1;32m2\u001b[0m\n\u001b[1;33m    ....\u001b[0m\n\u001b[1;37m        ^\u001b[0m\n\u001b[1;31mSyntaxError\u001b[0m\u001b[1;31m:\u001b[0m invalid syntax\n"
     ]
    }
   ],
   "source": [
    "####TabError\n",
    "...."
   ]
  },
  {
   "cell_type": "code",
   "execution_count": 20,
   "metadata": {},
   "outputs": [
    {
     "ename": "TypeError",
     "evalue": "unsupported operand type(s) for +: 'int' and 'str'",
     "output_type": "error",
     "traceback": [
      "\u001b[1;31m---------------------------------------------------------------------------\u001b[0m",
      "\u001b[1;31mTypeError\u001b[0m                                 Traceback (most recent call last)",
      "\u001b[1;32m<ipython-input-20-cc0384cb3f0e>\u001b[0m in \u001b[0;36m<module>\u001b[1;34m\u001b[0m\n\u001b[0;32m      1\u001b[0m \u001b[1;31m####TypeError\u001b[0m\u001b[1;33m\u001b[0m\u001b[1;33m\u001b[0m\u001b[1;33m\u001b[0m\u001b[0m\n\u001b[1;32m----> 2\u001b[1;33m \u001b[1;36m4\u001b[0m\u001b[1;33m+\u001b[0m\u001b[1;34m'ghjk'\u001b[0m\u001b[1;33m\u001b[0m\u001b[1;33m\u001b[0m\u001b[0m\n\u001b[0m",
      "\u001b[1;31mTypeError\u001b[0m: unsupported operand type(s) for +: 'int' and 'str'"
     ]
    }
   ],
   "source": [
    "####TypeError\n",
    "4+'ghjk'"
   ]
  },
  {
   "cell_type": "code",
   "execution_count": 22,
   "metadata": {},
   "outputs": [
    {
     "ename": "ValueError",
     "evalue": "invalid literal for int() with base 10: '20.5'",
     "output_type": "error",
     "traceback": [
      "\u001b[1;31m---------------------------------------------------------------------------\u001b[0m",
      "\u001b[1;31mValueError\u001b[0m                                Traceback (most recent call last)",
      "\u001b[1;32m<ipython-input-22-d67184b56d04>\u001b[0m in \u001b[0;36m<module>\u001b[1;34m\u001b[0m\n\u001b[0;32m      1\u001b[0m \u001b[1;31m####ValueError\u001b[0m\u001b[1;33m\u001b[0m\u001b[1;33m\u001b[0m\u001b[1;33m\u001b[0m\u001b[0m\n\u001b[1;32m----> 2\u001b[1;33m \u001b[0mint\u001b[0m\u001b[1;33m(\u001b[0m\u001b[1;34m'20.5'\u001b[0m\u001b[1;33m)\u001b[0m\u001b[1;33m\u001b[0m\u001b[1;33m\u001b[0m\u001b[0m\n\u001b[0m",
      "\u001b[1;31mValueError\u001b[0m: invalid literal for int() with base 10: '20.5'"
     ]
    }
   ],
   "source": [
    "####ValueError\n",
    "int('20.5')"
   ]
  },
  {
   "cell_type": "code",
   "execution_count": 12,
   "metadata": {},
   "outputs": [],
   "source": [
    "####ImportError\n"
   ]
  },
  {
   "cell_type": "code",
   "execution_count": 13,
   "metadata": {},
   "outputs": [],
   "source": [
    "####DeprecationWarning\n"
   ]
  },
  {
   "cell_type": "code",
   "execution_count": null,
   "metadata": {},
   "outputs": [],
   "source": []
  },
  {
   "cell_type": "code",
   "execution_count": 38,
   "metadata": {},
   "outputs": [
    {
     "name": "stdout",
     "output_type": "stream",
     "text": [
      "1\n"
     ]
    }
   ],
   "source": [
    "class Car:\n",
    "    def __init__(self,make,model):\n",
    "        self.make=make\n",
    "        self.model=model\n",
    "    def __repe__(self):\n",
    "        return f'<Car {self.make}{self.model}>'\n",
    "\n",
    "\n",
    "\n",
    "\n",
    "\n",
    "\n",
    "\n",
    "\n",
    "class Garage:\n",
    "        def __init__(self):\n",
    "              self.cars=[]\n",
    "        \n",
    "        \n",
    "        def __len__(self):\n",
    "            return len(self.cars)\n",
    "    \n",
    "    \n",
    "        def add_car(self,car):\n",
    "            if not isinstance(car, Car):\n",
    "                raise TypeError(f'Tried to add a `{car.__class__.__name__}` to the garage, but you can only add Car object')\n",
    "            self.cars.append(car)\n",
    "        \n",
    "ford=Garage()\n",
    "car=Car('Ford','Fiesta')\n",
    "ford.add_car(car)\n",
    "print(len(ford))\n"
   ]
  },
  {
   "cell_type": "markdown",
   "metadata": {},
   "source": [
    "#### Create your own error"
   ]
  },
  {
   "cell_type": "code",
   "execution_count": 47,
   "metadata": {},
   "outputs": [
    {
     "name": "stdout",
     "output_type": "stream",
     "text": [
      "\n",
      "    Exception raised when a specific error code is needed\n",
      "    \n",
      "Error code500:An error happend.\n"
     ]
    }
   ],
   "source": [
    "class RuntimeErrorWithCode(E):xception\n",
    "    \"\"\"\n",
    "    Exception raised when a specific error code is needed\n",
    "    \"\"\"\n",
    "    def __init__(self,message,code):\n",
    "           # self.message=message\n",
    "            super().__init__(f'Error code{code}:{message}')\n",
    "            self.code=code\n",
    "            \n",
    "err=RuntimeErrorWithCode('An error happend.',500)\n",
    "print(err.__doc__)\n",
    "print(err)\n",
    "\n",
    "\n"
   ]
  },
  {
   "cell_type": "markdown",
   "metadata": {},
   "source": [
    "#### Dealing with errors"
   ]
  },
  {
   "cell_type": "code",
   "execution_count": 49,
   "metadata": {},
   "outputs": [
    {
     "name": "stdout",
     "output_type": "stream",
     "text": [
      "Your car is not a car!\n"
     ]
    }
   ],
   "source": [
    "class Car:\n",
    "    def __init__(self,make,model):\n",
    "        self.make=make\n",
    "        self.model=model\n",
    "    def __repe__(self):\n",
    "        return f'<Car {self.make}{self.model}>'\n",
    "\n",
    "\n",
    "\n",
    "\n",
    "\n",
    "\n",
    "\n",
    "\n",
    "class Garage:\n",
    "        def __init__(self):\n",
    "              self.cars=[]\n",
    "        \n",
    "        \n",
    "        def __len__(self):\n",
    "            return len(self.cars)\n",
    "    \n",
    "    \n",
    "        def add_car(self,car):\n",
    "            if not isinstance(car, Car):\n",
    "                raise TypeError(f'Tried to add a `{car.__class__.__name__}` to the garage, but you can only add Car object')\n",
    "            self.cars.append(car)\n",
    "        \n",
    "ford=Garage()\n",
    "fiesta=Car('Ford','Fiesta')\n",
    "\n",
    "try:\n",
    "    ford.add_car('fiesta')\n",
    "except TypeError:\n",
    "    print('Your car is not a car!')\n"
   ]
  },
  {
   "cell_type": "markdown",
   "metadata": {},
   "source": [
    "#### Example of try and except"
   ]
  },
  {
   "cell_type": "code",
   "execution_count": null,
   "metadata": {},
   "outputs": [],
   "source": [
    "class User:\n",
    "    def __init__()"
   ]
  }
 ],
 "metadata": {
  "kernelspec": {
   "display_name": "Python 3",
   "language": "python",
   "name": "python3"
  },
  "language_info": {
   "codemirror_mode": {
    "name": "ipython",
    "version": 3
   },
   "file_extension": ".py",
   "mimetype": "text/x-python",
   "name": "python",
   "nbconvert_exporter": "python",
   "pygments_lexer": "ipython3",
   "version": "3.8.3"
  }
 },
 "nbformat": 4,
 "nbformat_minor": 4
}
