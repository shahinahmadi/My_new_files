{
 "cells": [
  {
   "cell_type": "markdown",
   "metadata": {},
   "source": [
    "# Numbers and printing python "
   ]
  },
  {
   "cell_type": "code",
   "execution_count": 11,
   "metadata": {},
   "outputs": [],
   "source": [
    "a=1\n",
    "b=2\n",
    "c=3\n",
    "d=4\n"
   ]
  },
  {
   "cell_type": "code",
   "execution_count": 12,
   "metadata": {},
   "outputs": [
    {
     "name": "stdout",
     "output_type": "stream",
     "text": [
      "4.0\n"
     ]
    }
   ],
   "source": [
    "float_division=12/3\n",
    "print(float_division)"
   ]
  },
  {
   "cell_type": "code",
   "execution_count": 13,
   "metadata": {},
   "outputs": [
    {
     "name": "stdout",
     "output_type": "stream",
     "text": [
      "4\n",
      "4\n"
     ]
    }
   ],
   "source": [
    "integer_division=12//3\n",
    "print(integer_division)\n",
    "print(int(integer_division))"
   ]
  },
  {
   "cell_type": "code",
   "execution_count": 14,
   "metadata": {
    "scrolled": false
   },
   "outputs": [
    {
     "name": "stdout",
     "output_type": "stream",
     "text": [
      "2\n",
      "2\n"
     ]
    }
   ],
   "source": [
    "division_with_remainder=12//5\n",
    "print(division_with_remainder)\n",
    "remainder=12%5\n",
    "print(remainder)\n"
   ]
  },
  {
   "cell_type": "markdown",
   "metadata": {},
   "source": [
    "# Getting things from the fusers"
   ]
  },
  {
   "cell_type": "code",
   "execution_count": null,
   "metadata": {},
   "outputs": [],
   "source": [
    "my_name ='Shahin'\n",
    "your_name=input(\"Enter your name: \")\n",
    "\n",
    "#print (\"Hello\"+ yourname)\n",
    "print(f'Hello, {your_name}')"
   ]
  },
  {
   "cell_type": "code",
   "execution_count": null,
   "metadata": {},
   "outputs": [],
   "source": [
    "your_age= int(input(\"Enter your age: \"))\n",
    "convert_to_month=your_age*12\n",
    "print(f'You have lived for {convert_to_month}')"
   ]
  },
  {
   "cell_type": "code",
   "execution_count": null,
   "metadata": {},
   "outputs": [],
   "source": [
    "in_seconds=convert_to_month*30*24*60*60\n",
    "print(f'You have lived for{in_seconds}')"
   ]
  },
  {
   "cell_type": "markdown",
   "metadata": {},
   "source": [
    "# Bolean"
   ]
  },
  {
   "cell_type": "code",
   "execution_count": null,
   "metadata": {},
   "outputs": [],
   "source": [
    "truthy=True\n",
    "falsy=False\n",
    "age=20\n",
    "is_over_age=age>=18\n",
    "print(is_over_age)"
   ]
  },
  {
   "cell_type": "code",
   "execution_count": null,
   "metadata": {},
   "outputs": [],
   "source": [
    "is_under_age=(age<18)\n",
    "print(is_under_age)"
   ]
  },
  {
   "cell_type": "code",
   "execution_count": null,
   "metadata": {},
   "outputs": [],
   "source": [
    "is_twenty=age==20\n",
    "print(is_twenty)"
   ]
  },
  {
   "cell_type": "code",
   "execution_count": null,
   "metadata": {},
   "outputs": [],
   "source": [
    "my_number=5\n",
    "user_number=int(input(\"Enter your number: \"))\n",
    "print(my_number==user_number)\n",
    "print(my_number!=user_number)\n"
   ]
  },
  {
   "cell_type": "code",
   "execution_count": null,
   "metadata": {},
   "outputs": [],
   "source": [
    "yes=True and True\n",
    "no = True and False\n",
    "print(no)"
   ]
  },
  {
   "cell_type": "code",
   "execution_count": null,
   "metadata": {},
   "outputs": [],
   "source": [
    "which_one_is_it=True or False\n",
    "second_one=False or True\n",
    "first_one=True or True\n",
    "neither=False or False\n",
    "\n",
    "absolutely= not False # True\n",
    "another_no=not True # False\n",
    "\n",
    "is_programmer=True\n",
    "is_learning=False\n",
    "\n",
    "awesome=is_programmer and is_learning\n",
    "less_awesome=is_programmer and not is_learning\n",
    "print(f'OKKKK {less_awesome}')"
   ]
  },
  {
   "cell_type": "code",
   "execution_count": null,
   "metadata": {},
   "outputs": [],
   "source": [
    "is_designer=False\n",
    "great_guys=(is_programmer or not is_designer) and not is_learning\n",
    "print(f'This is a great guy {great_guys}')"
   ]
  },
  {
   "cell_type": "markdown",
   "metadata": {},
   "source": [
    "# Data structurs (lists, tuples, and sets)"
   ]
  },
  {
   "cell_type": "code",
   "execution_count": null,
   "metadata": {},
   "outputs": [],
   "source": [
    "my_variables='hello'\n",
    "my_list_variable=['hello', 'hi', 'nice to meet you']\n",
    "my_tuple_variable=('hello','hi','nice to meet you')\n",
    "my_set_variable={'hello', 'hi', 'nice to meet you'}\n",
    "\n",
    "print(my_list_variable)\n",
    "print(my_tuple_variable)\n",
    "print(my_set_variable)\n"
   ]
  },
  {
   "cell_type": "code",
   "execution_count": null,
   "metadata": {},
   "outputs": [],
   "source": [
    "my_short_tuple_variable=('hello')\n",
    "print(my_short_tuple_variable)"
   ]
  },
  {
   "cell_type": "code",
   "execution_count": null,
   "metadata": {},
   "outputs": [],
   "source": [
    "print(my_list_variable[0])"
   ]
  },
  {
   "cell_type": "code",
   "execution_count": null,
   "metadata": {},
   "outputs": [],
   "source": [
    "print(my_tuple_variable[0])"
   ]
  },
  {
   "cell_type": "markdown",
   "metadata": {},
   "source": [
    "### Modify the list "
   ]
  },
  {
   "cell_type": "code",
   "execution_count": null,
   "metadata": {},
   "outputs": [],
   "source": [
    "my_list_variable.append('Anothr sting')\n",
    "print(my_list_variable)"
   ]
  },
  {
   "cell_type": "code",
   "execution_count": null,
   "metadata": {},
   "outputs": [],
   "source": [
    "my_tuple_variable=my_tuple_variable+('another string', )\n",
    "print(my_tuple_variable)"
   ]
  },
  {
   "cell_type": "code",
   "execution_count": null,
   "metadata": {},
   "outputs": [],
   "source": [
    "my_set_variable.add('hello')\n",
    "print(my_set_variable)\n",
    "\n"
   ]
  },
  {
   "cell_type": "markdown",
   "metadata": {},
   "source": [
    "## Advanced set operators"
   ]
  },
  {
   "cell_type": "code",
   "execution_count": null,
   "metadata": {},
   "outputs": [],
   "source": [
    "set_one={1,2,3,4,5}\n",
    "set_two={1,3,5,7,9,11}\n",
    "print(set_one.intersection(set_two))"
   ]
  },
  {
   "cell_type": "code",
   "execution_count": null,
   "metadata": {},
   "outputs": [],
   "source": [
    "print(set_one.union(set_two))"
   ]
  },
  {
   "cell_type": "code",
   "execution_count": null,
   "metadata": {},
   "outputs": [],
   "source": [
    "print(set_one.difference(set_two))"
   ]
  },
  {
   "cell_type": "markdown",
   "metadata": {},
   "source": [
    "## Dictionary"
   ]
  },
  {
   "cell_type": "code",
   "execution_count": null,
   "metadata": {},
   "outputs": [],
   "source": [
    "my_friend=[{\n",
    "    'Jose':6,\n",
    "    'Rolf':12,\n",
    "    'Anne':6\n",
    "},{\n",
    "  'Shahin':20,\n",
    "    'Ramin':25,\n",
    "    'Mohsen':46\n",
    "}]\n",
    "group_one=my_friend[0]\n",
    "print(group_one['Jose'])\n",
    "\n"
   ]
  },
  {
   "cell_type": "code",
   "execution_count": null,
   "metadata": {},
   "outputs": [],
   "source": [
    "a=[1,2,3,4,5,6]\n",
    "print(sum(a))"
   ]
  },
  {
   "cell_type": "markdown",
   "metadata": {},
   "source": [
    "### The leength of the list"
   ]
  },
  {
   "cell_type": "code",
   "execution_count": null,
   "metadata": {},
   "outputs": [],
   "source": [
    "grades=[95,50,75,100]\n",
    "total=sum(grades)\n",
    "print(total)"
   ]
  },
  {
   "cell_type": "code",
   "execution_count": null,
   "metadata": {},
   "outputs": [],
   "source": [
    "len(grades)"
   ]
  },
  {
   "cell_type": "markdown",
   "metadata": {},
   "source": [
    "### If statement"
   ]
  },
  {
   "cell_type": "code",
   "execution_count": null,
   "metadata": {},
   "outputs": [],
   "source": [
    "programmer=True\n",
    "if programmer is True:\n",
    "    print('You are awesome')"
   ]
  },
  {
   "cell_type": "code",
   "execution_count": null,
   "metadata": {},
   "outputs": [],
   "source": [
    "programmer=False\n",
    "if programmer is  True:\n",
    "    print('You are awssome')\n",
    "else:\n",
    "    print('Learn some programming')"
   ]
  },
  {
   "cell_type": "code",
   "execution_count": null,
   "metadata": {},
   "outputs": [],
   "source": [
    "is_programmer=False\n",
    "is_awesome=False\n",
    "\n",
    "\n",
    "if is_programmer:\n",
    "    print('You are the best!')\n",
    "elif is_awesome:\n",
    "    print(\"You are awesome\")\n",
    "else:\n",
    "    print(\"I do not have any idea\")"
   ]
  },
  {
   "cell_type": "code",
   "execution_count": null,
   "metadata": {},
   "outputs": [],
   "source": [
    "if  (is_programmer or is_awesome):\n",
    "    print('Be awesome!')"
   ]
  },
  {
   "cell_type": "markdown",
   "metadata": {},
   "source": [
    "## Using while loop"
   ]
  },
  {
   "cell_type": "code",
   "execution_count": null,
   "metadata": {},
   "outputs": [],
   "source": [
    "is_programmer=False\n",
    "while is_programmer:\n",
    "    print('Hello World')"
   ]
  },
  {
   "cell_type": "code",
   "execution_count": null,
   "metadata": {},
   "outputs": [],
   "source": [
    "i=0\n",
    "while i<10:\n",
    "    print(f'Repeated {i} times')\n",
    "    i=i+1\n",
    "    \n",
    "    "
   ]
  },
  {
   "cell_type": "markdown",
   "metadata": {},
   "source": [
    "### For loop "
   ]
  },
  {
   "cell_type": "code",
   "execution_count": null,
   "metadata": {},
   "outputs": [],
   "source": [
    "primes=[2,3,4,7,11]\n",
    "for i in primes:\n",
    "    print(f'{i} is a prime number')"
   ]
  },
  {
   "cell_type": "code",
   "execution_count": null,
   "metadata": {},
   "outputs": [],
   "source": [
    "kid_ages=(3,7,12)\n",
    "for age in kid_ages:\n",
    "    print(f'I have a {age} year old kid')"
   ]
  },
  {
   "cell_type": "code",
   "execution_count": null,
   "metadata": {},
   "outputs": [],
   "source": [
    "for i in range(20):\n",
    "    print(i)"
   ]
  },
  {
   "cell_type": "code",
   "execution_count": null,
   "metadata": {},
   "outputs": [],
   "source": [
    "my_friends={\n",
    "    'Jose':6,\n",
    "    'Rolf':12,\n",
    "    'Anne':6\n",
    "}\n",
    "\n",
    "for name in my_friends:\n",
    "    print(f'I last saw {name} {my_friends[name]} days ago.')"
   ]
  },
  {
   "cell_type": "code",
   "execution_count": null,
   "metadata": {},
   "outputs": [],
   "source": [
    "my_friends={\n",
    "    'Jose':6,\n",
    "    'Rolf':12,\n",
    "    'Anne':6\n",
    "}\n",
    "\n",
    "for name, days in my_friends.items():\n",
    "    print(f'I last saw {name} {days} days ago.')"
   ]
  },
  {
   "cell_type": "code",
   "execution_count": null,
   "metadata": {},
   "outputs": [],
   "source": [
    "print(my_friends.items())"
   ]
  },
  {
   "cell_type": "markdown",
   "metadata": {},
   "source": [
    "### Break keyword"
   ]
  },
  {
   "cell_type": "code",
   "execution_count": null,
   "metadata": {},
   "outputs": [],
   "source": [
    "cars=['ok','ok','ok','faulty','ok','ok']\n",
    "for car in cars:\n",
    "    print(car)\n",
    "    if car=='faulty':\n",
    "        break\n",
    "print('Stop production')"
   ]
  },
  {
   "cell_type": "code",
   "execution_count": null,
   "metadata": {},
   "outputs": [],
   "source": [
    "for number in range(2,10):\n",
    "    if number%2==0:\n",
    "        print(f'We found an even number{number}')\n",
    "       # continue\n",
    "    else:\n",
    "        print(f'I found a {number}')\n",
    "        \n",
    "    "
   ]
  },
  {
   "cell_type": "code",
   "execution_count": null,
   "metadata": {},
   "outputs": [],
   "source": [
    "for n in range(2,10):\n",
    "    for x in range(2,n):\n",
    "        if n%x==0:\n",
    "            print(f'{n} equals {x}*{n/x}')\n",
    "            break\n",
    "    else:\n",
    "            print(f'{n} is a prime number')"
   ]
  },
  {
   "cell_type": "code",
   "execution_count": null,
   "metadata": {},
   "outputs": [],
   "source": [
    "for n in range(2,10):\n",
    "    for k in range(2,n):\n",
    "        if n%k==0:\n",
    "            print(f'{n} equals {k}*{n/k}')\n",
    "            break\n",
    "    else:\n",
    "            print(f'{n} is a prime number')"
   ]
  },
  {
   "cell_type": "code",
   "execution_count": null,
   "metadata": {},
   "outputs": [],
   "source": [
    "### List slicing"
   ]
  },
  {
   "cell_type": "code",
   "execution_count": null,
   "metadata": {},
   "outputs": [],
   "source": [
    "friends=['rolf', 'Jose', 'Anna', 'Charlie', 'Mary']\n",
    "print(friends[2:4])"
   ]
  },
  {
   "cell_type": "code",
   "execution_count": null,
   "metadata": {},
   "outputs": [],
   "source": [
    "print(friends[-3:-1])"
   ]
  },
  {
   "cell_type": "code",
   "execution_count": null,
   "metadata": {},
   "outputs": [],
   "source": [
    "print(friends[:-2])"
   ]
  },
  {
   "cell_type": "markdown",
   "metadata": {},
   "source": [
    "### List comprehension"
   ]
  },
  {
   "cell_type": "code",
   "execution_count": null,
   "metadata": {},
   "outputs": [],
   "source": [
    "numbers=list(range(10))"
   ]
  },
  {
   "cell_type": "code",
   "execution_count": null,
   "metadata": {},
   "outputs": [],
   "source": [
    "doubled_numbers=[]\n",
    "for i in numbers:\n",
    "    doubled_numbers.append(i*2)\n",
    "print(doubled_numbers)"
   ]
  },
  {
   "cell_type": "code",
   "execution_count": null,
   "metadata": {},
   "outputs": [],
   "source": [
    "doubled_numbers=[n*2 for n in numbers]\n",
    "\n",
    "print(doubled_numbers)"
   ]
  },
  {
   "cell_type": "code",
   "execution_count": null,
   "metadata": {},
   "outputs": [],
   "source": [
    "names_list=['John','Rolf','Anne']\n",
    "lower_case=[]\n",
    "for i in names_list:\n",
    "    print(i.lower())\n",
    "    lower_case.append(i.lower())\n",
    "print(lower_case)"
   ]
  },
  {
   "cell_type": "markdown",
   "metadata": {},
   "source": [
    "### With condition"
   ]
  },
  {
   "cell_type": "code",
   "execution_count": null,
   "metadata": {},
   "outputs": [],
   "source": [
    "even=[]\n",
    "for i in numbers:\n",
    "    if i%2==0:\n",
    "        even.append(i)\n",
    "print(even )"
   ]
  },
  {
   "cell_type": "code",
   "execution_count": null,
   "metadata": {},
   "outputs": [],
   "source": [
    "friends=['Ali', 'Hasan', 'Hossein', 'Sajjad']\n",
    "guests=['Fatemeh', 'Zeinab', 'Zahra', 'Leila', 'Hasan', 'Hossein']"
   ]
  },
  {
   "cell_type": "code",
   "execution_count": null,
   "metadata": {},
   "outputs": [],
   "source": [
    "present_friend=[n.capitalize() for n in friends if n in guests]\n"
   ]
  },
  {
   "cell_type": "code",
   "execution_count": null,
   "metadata": {},
   "outputs": [],
   "source": [
    "print(present_friend)"
   ]
  },
  {
   "cell_type": "markdown",
   "metadata": {},
   "source": [
    "### Functions "
   ]
  },
  {
   "cell_type": "code",
   "execution_count": null,
   "metadata": {},
   "outputs": [],
   "source": [
    "#name = input('Enter your name: ')\n",
    "#print(f'Hello , {name}!')\n",
    "def greet():\n",
    "    name=input('Enter your name: ')\n",
    "    print(f'Hello, {name}!')\n",
    "    \n",
    "#greet()"
   ]
  },
  {
   "cell_type": "code",
   "execution_count": null,
   "metadata": {},
   "outputs": [],
   "source": [
    "def check_if_prime(n):\n",
    "    #for n in range(2,10):\n",
    "        for x in range(2,n):\n",
    "            if n%x==0:\n",
    "                print(f'{n} equals {x}*{n/x}')\n",
    "                break\n",
    "        else:\n",
    "                print(f'{n} is a prime number')\n",
    "\n",
    "            \n",
    "\n",
    "for n in range(2,100):            \n",
    "      check_if_prime(n)"
   ]
  },
  {
   "cell_type": "markdown",
   "metadata": {},
   "source": [
    "### Return value"
   ]
  },
  {
   "cell_type": "code",
   "execution_count": null,
   "metadata": {},
   "outputs": [],
   "source": [
    "def i_return():\n",
    "    return 5+5\n",
    "def i_print():\n",
    "    print(5+5)\n",
    "i_return()"
   ]
  },
  {
   "cell_type": "code",
   "execution_count": null,
   "metadata": {},
   "outputs": [],
   "source": [
    "result=i_return()\n",
    "#another=i_print()\n",
    "\n",
    "print(f'Result is {result}')\n",
    "print(f'Another is {another}')"
   ]
  },
  {
   "cell_type": "code",
   "execution_count": null,
   "metadata": {},
   "outputs": [],
   "source": [
    "def fives():\n",
    "     addition=5+5\n",
    "     print(addition)\n",
    "     return(addition)\n",
    "    \n",
    "    \n",
    "print(fives())"
   ]
  },
  {
   "cell_type": "code",
   "execution_count": null,
   "metadata": {},
   "outputs": [],
   "source": [
    "def add_two(x,y):\n",
    "    return x+y\n",
    "add_two(16626363,466732756789)"
   ]
  },
  {
   "cell_type": "code",
   "execution_count": null,
   "metadata": {},
   "outputs": [],
   "source": [
    "lambda x, y: x+y\n",
    "(lambda x, y: x+y)(10,5)\n"
   ]
  },
  {
   "cell_type": "code",
   "execution_count": null,
   "metadata": {},
   "outputs": [],
   "source": [
    "add=lambda x, y : x+y"
   ]
  },
  {
   "cell_type": "code",
   "execution_count": null,
   "metadata": {},
   "outputs": [],
   "source": [
    "def who(data, identify):\n",
    "     return identify(data)\n",
    "#def my_identifier_function(some_data):\n",
    "   # return some_data['name']\n",
    "user={'name':'Shahin', 'surname':'Ahmadi'}\n",
    "#print(who(user, my_identifier_function))\n",
    "print(who(user,lambda x:x['name']))"
   ]
  },
  {
   "cell_type": "markdown",
   "metadata": {},
   "source": [
    "### Error in Python"
   ]
  },
  {
   "cell_type": "code",
   "execution_count": null,
   "metadata": {},
   "outputs": [],
   "source": [
    "my_variable=123\n",
    "print(my_variable)"
   ]
  },
  {
   "cell_type": "markdown",
   "metadata": {},
   "source": [
    "###  Milestone project"
   ]
  },
  {
   "cell_type": "code",
   "execution_count": null,
   "metadata": {},
   "outputs": [],
   "source": [
    "\n",
    "movies=[]\n",
    "\n",
    "def menu():\n",
    "    \n",
    "    user_input=input(\"Enter 'a' to add movie, '1' to see your movies, 'f' to find a movie: \")\n",
    "\n",
    "    \n",
    "    while user_input!='q':\n",
    "\n",
    "                if user_input=='a':\n",
    "                      add_movie()\n",
    "                elif user_input=='l':\n",
    "                      show_movie(movies)\n",
    "                elif user_input=='f':\n",
    "                      find_movie()\n",
    "\n",
    "                else:\n",
    "                    print(\"I do not understand this command\")\n",
    "\n",
    "                    \n",
    "                user_input=input(\"\\nEnter 'a' to add movie, '1' to see your movies, 'f' to find a movie: \")                   \n",
    "                    \n",
    "                    \n",
    "\n",
    "\n",
    "def add_movie():\n",
    "\n",
    "                name=input(\"Enter the name of movie: \")\n",
    "                director=input(\"Enter the director of the movie: \")\n",
    "                year=input(\"Enter the production year of the movie: \")\n",
    "                \n",
    "\n",
    "                movies.append({\n",
    "\n",
    "                        'name':name,\n",
    "                        'director':director,\n",
    "                        'year':year\n",
    "\n",
    "                    })\n",
    "def show_movie(movies_list):\n",
    "                for movie in movies_list:\n",
    "                    print(f\"Name:{movie['name']}\")\n",
    "                    print(f\"Director:{movie['director']}\")\n",
    "                    print(f\"Release year:{movie['year']}\")\n",
    "\n",
    "def find_movie():\n",
    "    find_by=input(\"Waht property of the movie are you looking for? \")\n",
    "    looking_for=input(\"What are you searching for? \")\n",
    "    \n",
    "    found_movies=find_by_attribute(movies,looking_for, lambda x:x[find_by])\n",
    "    \n",
    "    show_movie(found_movies)\n",
    "    \n",
    "def find_by_attribute(items, expected, finder):  \n",
    "        found=[]\n",
    "        \n",
    "        for i in items:\n",
    "            if finder(i)==expected:\n",
    "                    found.append(i)\n",
    "        return found\n",
    "\n",
    "\n",
    "menu()\n",
    "\n",
    "\n",
    "\n",
    "\n",
    "\n",
    "\n",
    "    \n",
    "    \n",
    "    \n",
    "    \n",
    "    \n",
    "    \n",
    "    \n",
    "    \n",
    "    \n",
    "    \n",
    "    \n",
    "    \n",
    "    \n",
    "    \n",
    "    \n",
    "    \n",
    "    "
   ]
  },
  {
   "cell_type": "markdown",
   "metadata": {},
   "source": [
    "### Error in pythons"
   ]
  },
  {
   "cell_type": "code",
   "execution_count": null,
   "metadata": {},
   "outputs": [],
   "source": [
    "####Index error\n",
    "friends=['Rolf','Anne']\n",
    "print(friends[2])"
   ]
  },
  {
   "cell_type": "code",
   "execution_count": null,
   "metadata": {},
   "outputs": [],
   "source": [
    "####Key error(If we use the key incorrectly)\n",
    "### We consider the milestone project 1 to illustrate this errordef show_movie(movies_list):\n",
    "def show_movie(movies_list): \n",
    "         for movie in movies_list:\n",
    "                       print(f\"Name:{movie['name']}\")\n",
    "                       print(f\"Director:{movie['director']}\")\n",
    "                       print(f\"Release year:{movie['release']}\")# It should be year not release\n",
    "\n"
   ]
  },
  {
   "cell_type": "code",
   "execution_count": null,
   "metadata": {},
   "outputs": [],
   "source": [
    "####Name error\n",
    "print(hello)# hello is not defined"
   ]
  },
  {
   "cell_type": "code",
   "execution_count": null,
   "metadata": {},
   "outputs": [],
   "source": [
    "####Attribute error\n",
    "friends=['Rolf','Jose','Charlie']\n",
    "friends_nearby=['Rolf','Anna']\n",
    "friends.intersection(friends_nearby)"
   ]
  },
  {
   "cell_type": "code",
   "execution_count": null,
   "metadata": {},
   "outputs": [],
   "source": [
    "####NotImplementedError, It says that the method or attribute we use is not implemented yet\n",
    "class user:\n",
    "    def __init__(self,username,password):\n",
    "        self.username=username\n",
    "        self.password=password\n",
    "        \n",
    "    def login(self):\n",
    "        raise NotImplementedError('This feature has not implemented yet.')\n",
    "\n"
   ]
  },
  {
   "cell_type": "code",
   "execution_count": null,
   "metadata": {},
   "outputs": [],
   "source": [
    "####RunTimeError\n",
    "........."
   ]
  },
  {
   "cell_type": "code",
   "execution_count": null,
   "metadata": {},
   "outputs": [],
   "source": [
    "    ####SyntaxError\n",
    "class User # : should be here\n",
    "        def __init__(self,username, password):\n",
    "            self.username=username\n",
    "            self.password=password"
   ]
  },
  {
   "cell_type": "code",
   "execution_count": null,
   "metadata": {},
   "outputs": [],
   "source": [
    "####IndentationError\n",
    "def add_two(x,y):\n",
    "    pass\n",
    "\n",
    "\n",
    "return x+y"
   ]
  },
  {
   "cell_type": "code",
   "execution_count": null,
   "metadata": {},
   "outputs": [],
   "source": [
    "####TabError\n",
    "...."
   ]
  },
  {
   "cell_type": "code",
   "execution_count": null,
   "metadata": {},
   "outputs": [],
   "source": [
    "####TypeError\n",
    "4+'ghjk'"
   ]
  },
  {
   "cell_type": "code",
   "execution_count": null,
   "metadata": {},
   "outputs": [],
   "source": [
    "####ValueError\n",
    "int('20.5')"
   ]
  },
  {
   "cell_type": "code",
   "execution_count": null,
   "metadata": {},
   "outputs": [],
   "source": [
    "####ImportError\n"
   ]
  },
  {
   "cell_type": "code",
   "execution_count": null,
   "metadata": {},
   "outputs": [],
   "source": [
    "####DeprecationWarning\n"
   ]
  },
  {
   "cell_type": "code",
   "execution_count": null,
   "metadata": {},
   "outputs": [],
   "source": []
  },
  {
   "cell_type": "code",
   "execution_count": null,
   "metadata": {},
   "outputs": [],
   "source": [
    "class Car:\n",
    "    def __init__(self,make,model):\n",
    "        self.make=make\n",
    "        self.model=model\n",
    "    def __repe__(self):\n",
    "        return f'<Car {self.make}{self.model}>'\n",
    "\n",
    "\n",
    "\n",
    "\n",
    "\n",
    "\n",
    "\n",
    "\n",
    "class Garage:\n",
    "        def __init__(self):\n",
    "              self.cars=[]\n",
    "        \n",
    "        \n",
    "        def __len__(self):\n",
    "            return len(self.cars)\n",
    "    \n",
    "    \n",
    "        def add_car(self,car):\n",
    "            if not isinstance(car, Car):\n",
    "                raise TypeError(f'Tried to add a `{car.__class__.__name__}` to the garage, but you can only add Car object')\n",
    "            self.cars.append(car)\n",
    "        \n",
    "ford=Garage()\n",
    "car=Car('Ford','Fiesta')\n",
    "ford.add_car(car)\n",
    "print(len(ford))\n"
   ]
  },
  {
   "cell_type": "markdown",
   "metadata": {},
   "source": [
    "#### Create your own error"
   ]
  },
  {
   "cell_type": "code",
   "execution_count": null,
   "metadata": {},
   "outputs": [],
   "source": [
    "class RuntimeErrorWithCode(E):xception\n",
    "    \"\"\"\n",
    "    Exception raised when a specific error code is needed\n",
    "    \"\"\"\n",
    "    def __init__(self,message,code):\n",
    "           # self.message=message\n",
    "            super().__init__(f'Error code{code}:{message}')\n",
    "            self.code=code\n",
    "            \n",
    "err=RuntimeErrorWithCode('An error happend.',500)\n",
    "print(err.__doc__)\n",
    "print(err)\n",
    "\n",
    "\n"
   ]
  },
  {
   "cell_type": "markdown",
   "metadata": {},
   "source": [
    "#### Dealing with errors"
   ]
  },
  {
   "cell_type": "code",
   "execution_count": null,
   "metadata": {},
   "outputs": [],
   "source": [
    "class Car:\n",
    "    def __init__(self,make,model):\n",
    "        self.make=make\n",
    "        self.model=model\n",
    "    def __repe__(self):\n",
    "        return f'<Car {self.make}{self.model}>'\n",
    "\n",
    "\n",
    "\n",
    "\n",
    "\n",
    "\n",
    "\n",
    "\n",
    "class Garage:\n",
    "        def __init__(self):\n",
    "              self.cars=[]\n",
    "        \n",
    "        \n",
    "        def __len__(self):\n",
    "            return len(self.cars)\n",
    "    \n",
    "    \n",
    "        def add_car(self,car):\n",
    "            if not isinstance(car, Car):\n",
    "                raise TypeError(f'Tried to add a `{car.__class__.__name__}` to the garage, but you can only add Car object')\n",
    "            self.cars.append(car)\n",
    "        \n",
    "ford=Garage()\n",
    "fiesta=Car('Ford','Fiesta')\n",
    "\n",
    "try:\n",
    "    ford.add_car('fiesta')\n",
    "except TypeError:\n",
    "    print('Your car is not a car!')\n"
   ]
  },
  {
   "cell_type": "markdown",
   "metadata": {},
   "source": [
    "#### Example of try and except"
   ]
  },
  {
   "cell_type": "code",
   "execution_count": null,
   "metadata": {},
   "outputs": [],
   "source": [
    "class User:\n",
    "    def __init__(self,name,engagement):\n",
    "        self.name=name\n",
    "        self.engagement_metrics=engagement\n",
    "        \n",
    "    def __repr__(self):\n",
    "        return f'<User{self.name}>'\n",
    "    \n",
    "    \n",
    "    \n",
    "def email_engaged_user(user):\n",
    "    try:\n",
    "         perform_calculation(user.engagement_metrics)\n",
    "    except KeyError:\n",
    "        print(\"Incorrect values provided to our calculation.\")\n",
    "       # raise\n",
    "    else:\n",
    "        send_engagement_notification(user)\n",
    "    \n",
    "    \n",
    "    \n",
    "def perform_calculation(metrics):\n",
    "    return metrics['clicks']*5 + metrics['hits']*2\n",
    "\n",
    "\n",
    "\n",
    "def send_engagement_notification(user):\n",
    "        print(f'Notification sent to {user}.')\n",
    "    \n",
    "my_user=User('Rolf',{'clicks':61,'hits':100})\n",
    "email_engaged_user(my_user)\n",
    "        "
   ]
  },
  {
   "cell_type": "markdown",
   "metadata": {},
   "source": [
    "### A Quiz of the course "
   ]
  },
  {
   "cell_type": "markdown",
   "metadata": {},
   "source": [
    "##### Take a number and return its square"
   ]
  },
  {
   "cell_type": "code",
   "execution_count": 22,
   "metadata": {},
   "outputs": [
    {
     "name": "stdout",
     "output_type": "stream",
     "text": [
      "Insert your number: 4\n",
      "256.0\n"
     ]
    }
   ],
   "source": [
    "def power_of_two(x):\n",
    "    \n",
    "           x=float(input('Insert your number: '))\n",
    "           y=x**4\n",
    "           return y\n",
    "    \n",
    "print(power_of_two(2))\n",
    "\n",
    "\n"
   ]
  },
  {
   "cell_type": "code",
   "execution_count": 2,
   "metadata": {},
   "outputs": [
    {
     "name": "stdout",
     "output_type": "stream",
     "text": [
      "Insert your number: 67\n",
      "20151121.0\n"
     ]
    }
   ],
   "source": [
    "def power_of_two(x):\n",
    "    \n",
    "           x=input('Insert your number: ')\n",
    "           try:\n",
    "                n=float(x)\n",
    "                \n",
    "           except ValueError:\n",
    "                   print('Your input was invalid')\n",
    "           finally:\n",
    "                y=n**4\n",
    "                return y\n",
    "    \n",
    "print(power_of_two(2))"
   ]
  },
  {
   "cell_type": "code",
   "execution_count": 6,
   "metadata": {},
   "outputs": [
    {
     "name": "stdout",
     "output_type": "stream",
     "text": [
      "Insert your number: kj\n",
      "Your input was invalid\n",
      "None\n"
     ]
    }
   ],
   "source": [
    "def power_of_two(x):\n",
    "    \n",
    "           x=input('Insert your number: ')\n",
    "           try:\n",
    "                n=float(x)\n",
    "                \n",
    "           except ValueError:\n",
    "                   print('Your input was invalid')\n",
    "                   \n",
    "           else:\n",
    "                y=n**4\n",
    "                return y\n",
    "    \n",
    "print(power_of_two(2))"
   ]
  },
  {
   "cell_type": "code",
   "execution_count": 4,
   "metadata": {},
   "outputs": [],
   "source": []
  },
  {
   "cell_type": "code",
   "execution_count": null,
   "metadata": {},
   "outputs": [],
   "source": []
  }
 ],
 "metadata": {
  "kernelspec": {
   "display_name": "Python 3",
   "language": "python",
   "name": "python3"
  },
  "language_info": {
   "codemirror_mode": {
    "name": "ipython",
    "version": 3
   },
   "file_extension": ".py",
   "mimetype": "text/x-python",
   "name": "python",
   "nbconvert_exporter": "python",
   "pygments_lexer": "ipython3",
   "version": "3.8.3"
  }
 },
 "nbformat": 4,
 "nbformat_minor": 4
}
