{
 "cells": [
  {
   "cell_type": "code",
   "execution_count": 15,
   "metadata": {},
   "outputs": [
    {
     "name": "stdout",
     "output_type": "stream",
     "text": [
      "[2755, 2740, 555, 2860, 2854, 2972, 3047, 2982, 2992, 2997, 2945, 3000, 2852, 3001, 3061, 2905, 325, 246, 261, 2930, 491, 276, 244, 356, 336, 344, 2759, 232, 2805, 2773, 293, 462, 2829, 2840, 388, 2777, 374, 2795, 207, 3106, 3090, 3101, 3109, 1111, 1129, 1064, 966, 1169, 1179, 1305, 1297, 901, 1368, 1474, 1394, 1673, 828, 773, 658]\n",
      "[900.0, 335.0, 120.0, 950.0, 725.0, 140.0, 875.0, 310.0, 270.0, 800.0, 400.0, 145.0, 170.0, 145.0, 1175.0, 650.0, 220.0, 195.0, 75.0, 215.0, 22.0, 70.0, 195.0, 240.0, 850.0, 165.0, 45.0, 170.0, 70.0, 370.0, 430.0, 500.0, 45.0, 210.0, 425.0, 190.0, 425.0, 270.0, 140.0, 200.0, 225.0, 40.0, 575.0, 70.0, 105.0, 6.0, 20.0, 14.5, 50.0, 46.0, 160.0, 70.0, 410.0, 125.0, 250.0, 25.0, 23.0, 45.0, 7.0]\n"
     ]
    }
   ],
   "source": [
    "import pandas as pd\n",
    "import numpy\n",
    "import csv\n",
    "from itertools import zip_longest\n",
    "from itertools import chain\n",
    "\n",
    "\n",
    "Data_Random=pd.read_excel(\"Darcy.xlsx\")\n",
    "\n",
    "\n",
    "Data_CPQ=pd.read_excel(\"CPQ.xlsx\")\n",
    "\n",
    "\n",
    "INDEX1=[]\n",
    "INDEX2=[]\n",
    "Extracted_price=[]\n",
    "\n",
    "\n",
    "for i in Data_Random[\"SKU\"]:\n",
    "    for j in Data_CPQ[\"SKU\"]:\n",
    "        if i==j:\n",
    "            INDEX1.append(Data_CPQ[Data_CPQ[\"SKU\"]==i].index.values)\n",
    "            \n",
    "flatten_index1 = list(chain.from_iterable(INDEX1))\n",
    "print(flatten_index1)\n",
    "\n",
    "for i in flatten_index1:\n",
    "    Extracted_price.append(Data_CPQ.at[i,\"Price\"])\n",
    "    \n",
    "print(Extracted_price)\n",
    "\n",
    "Table=[Extracted_price]\n",
    "export_data = zip_longest(*Table, fillvalue = '')\n",
    "with open('EX.csv', 'w', encoding=\"ISO-8859-1\", newline='') as myfile:\n",
    "      wr = csv.writer(myfile)\n",
    "      wr.writerow((\"CPQ_price\",\" \"))\n",
    "      wr.writerows(export_data)\n",
    "myfile.close()\n",
    "    \n",
    "    \n",
    "\n",
    "\n"
   ]
  },
  {
   "cell_type": "code",
   "execution_count": null,
   "metadata": {},
   "outputs": [],
   "source": []
  }
 ],
 "metadata": {
  "kernelspec": {
   "display_name": "Python 3",
   "language": "python",
   "name": "python3"
  },
  "language_info": {
   "codemirror_mode": {
    "name": "ipython",
    "version": 3
   },
   "file_extension": ".py",
   "mimetype": "text/x-python",
   "name": "python",
   "nbconvert_exporter": "python",
   "pygments_lexer": "ipython3",
   "version": "3.8.3"
  }
 },
 "nbformat": 4,
 "nbformat_minor": 4
}
